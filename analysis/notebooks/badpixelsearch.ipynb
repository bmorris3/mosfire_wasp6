{
 "metadata": {
  "name": "",
  "signature": "sha256:5a664aa35caa7b66a5778cdefa3570ce1c7d5f9593451f4bfced3aa4866ca569"
 },
 "nbformat": 3,
 "nbformat_minor": 0,
 "worksheets": [
  {
   "cells": [
    {
     "cell_type": "heading",
     "level": 1,
     "metadata": {},
     "source": [
      "Search for bad pixels"
     ]
    },
    {
     "cell_type": "markdown",
     "metadata": {},
     "source": [
      "Load all data images into one giant 3D array in IDL, then look at the time series for each pixel and find pixels whose variations are >6$\\sigma$. Use this as the new bad pixel mask."
     ]
    },
    {
     "cell_type": "code",
     "collapsed": false,
     "input": [
      "%%writefile badpixelsearch.pro \n",
      "\n",
      "cd,'/astro/users/bmmorris/git/research/keck/2014september/analysis'\n",
      "; Get all file paths\n",
      "Nfiles = 254\n",
      "filenames = strarr(Nfiles)\n",
      "for i=0,Nfiles-1 do begin\n",
      "  filenames[i] = '/local/tmp/mosfire/2014sep18/m140918_0'+strtrim(i+374,2)+'.fits'\n",
      "endfor\n",
      "\n",
      "; Open first file and make a big 3D array that will store each image (contains 1e9 elements)\n",
      "imagedimensions = size(READFITS(filenames[0]),/dim)\n",
      "allimages = dblarr(Nfiles, imagedimensions[0], imagedimensions[1])\n",
      "for i=0,Nfiles-1 do begin\n",
      "  ;print,i,'of',Nfiles\n",
      "  allimages[i,*,*] = READFITS(filenames[i],/silent)\n",
      "endfor\n",
      "\n",
      "; identify pixels that are highly variable\n",
      "variablepixels = dblarr(imagedimensions[0], imagedimensions[1])\n",
      "threshold = 6\n",
      "for i=0,imagedimensions[0]-1 do begin\n",
      "  for j=0,imagedimensions[1]-1 do begin\n",
      "    pxltimeseries = allimages[*,i,j]\n",
      "    excursioninds = where(abs(pxltimeseries - mean(pxltimeseries)) gt threshold*stddev(pxltimeseries))\n",
      "    if (n_elements(excursioninds) ne 1) or (excursioninds[0] ne -1) then begin\n",
      "      variablepixels[i,j] = n_elements(excursioninds)\n",
      "    endif else begin\n",
      "      variablepixels[i,j] = 0\n",
      "    endelse\n",
      "  endfor\n",
      "endfor\n",
      "WRITE_CSV,'variablepixels.csv',variablepixels\n",
      "end"
     ],
     "language": "python",
     "metadata": {},
     "outputs": [
      {
       "output_type": "stream",
       "stream": "stdout",
       "text": [
        "Overwriting badpixelsearch.pro\n"
       ]
      }
     ],
     "prompt_number": 4
    },
    {
     "cell_type": "code",
     "collapsed": false,
     "input": [
      "import subprocess\n",
      "subprocess.check_call(['idl','badpixelsearch.pro'])"
     ],
     "language": "python",
     "metadata": {},
     "outputs": [
      {
       "metadata": {},
       "output_type": "pyout",
       "prompt_number": 3,
       "text": [
        "0"
       ]
      }
     ],
     "prompt_number": 3
    },
    {
     "cell_type": "code",
     "collapsed": false,
     "input": [],
     "language": "python",
     "metadata": {},
     "outputs": [],
     "prompt_number": 0
    },
    {
     "cell_type": "code",
     "collapsed": false,
     "input": [],
     "language": "python",
     "metadata": {},
     "outputs": []
    }
   ],
   "metadata": {}
  }
 ]
}