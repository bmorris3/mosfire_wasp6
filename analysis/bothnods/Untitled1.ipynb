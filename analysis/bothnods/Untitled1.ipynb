{
 "metadata": {
  "name": "",
  "signature": "sha256:4d0a8beff6b1d37ac7310ba3fa0c46884599f940594f9b24bbfaff25f9eecbb8"
 },
 "nbformat": 3,
 "nbformat_minor": 0,
 "worksheets": []
}