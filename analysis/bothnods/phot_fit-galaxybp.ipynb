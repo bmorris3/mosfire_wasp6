{
 "metadata": {
  "name": "",
  "signature": "sha256:e63a93fc444785bd4fdd5f78a7337bd97b002b3d60b8e3d4d01667d8a779bc0f"
 },
 "nbformat": 3,
 "nbformat_minor": 0,
 "worksheets": [
  {
   "cells": [
    {
     "cell_type": "heading",
     "level": 1,
     "metadata": {},
     "source": [
      "Photometry and Fitting"
     ]
    },
    {
     "cell_type": "markdown",
     "metadata": {},
     "source": [
      "Begin with the same photometry routine as `phot_multiexposures.ipynb`, which recovers the first few exposures before ingress that had different exposure times. \n",
      "\n",
      "This version of `phot_fit` is being written at Keck Observing HQ on Dec 14 in an attempt to come up with a new parameterization for the light curve that properly includes in the airmass as a multiplicative term."
     ]
    },
    {
     "cell_type": "code",
     "collapsed": false,
     "input": [
      "%pylab inline\n",
      "import pyfits\n",
      "import numpy as np\n",
      "import matplotlib\n",
      "matplotlib.rcParams['font.size'] = 15\n",
      "from matplotlib import pyplot as plt\n",
      "import sys\n",
      "sys.path.append('../')\n",
      "import photPack2\n",
      "from astropy.time import Time\n",
      "import emcee\n",
      "\n",
      "dophotometry = True\n",
      "dofitting = False"
     ],
     "language": "python",
     "metadata": {},
     "outputs": [
      {
       "output_type": "stream",
       "stream": "stdout",
       "text": [
        "Populating the interactive namespace from numpy and matplotlib\n"
       ]
      }
     ],
     "prompt_number": 2
    },
    {
     "cell_type": "heading",
     "level": 1,
     "metadata": {},
     "source": [
      "Do photometry or load pre-calculated photometry"
     ]
    },
    {
     "cell_type": "code",
     "collapsed": false,
     "input": [
      "if dophotometry:\n",
      "    print 'Calculating photometry'\n",
      "\n",
      "    wasp6paths_nodsub_odd = [\"%s%04d%s\" % ('/local/tmp/mosfire/2014sep18_analysis/m140918_', \\\n",
      "                             i,'n_nobadpxl.fits') for i in range(365,629,1)]\n",
      "    wasp6paths_sum_odd = [\"%s%04d%s\" % ('/local/tmp/mosfire/2014sep18_analysis/m140918_',\\\n",
      "                          i,'sum_nobadpxl.fits') for i in range(365,629,1)]\n",
      "    testimgpath = wasp6paths_nodsub_odd[8]\n",
      "    testimg = pyfits.getdata(testimgpath)\n",
      "    arcpath = '/local/tmp/mosfire/2014sep18_analysis/m140918_0005shifted.fits'\n",
      "    arcimage = pyfits.getdata(arcpath)\n",
      "    wavelengthsoln = np.load('wavelengthsoln.npy')\n",
      "\n",
      "    times = np.zeros(len(wasp6paths_nodsub_odd))\n",
      "    fluxes = np.zeros((len(wasp6paths_nodsub_odd), 2))\n",
      "    centroids = np.zeros((len(wasp6paths_nodsub_odd), 2))\n",
      "    airmass = np.zeros(len(wasp6paths_nodsub_odd))\n",
      "\n",
      "    targetbounds = [385, 445]\n",
      "    compbounds = [1390, 1460]\n",
      "    roughnodcentroids = [500, 1500] # Rough indices between A and B nods\n",
      "    apertureradius = 18#20#8\n",
      "    bg_o = 5      # Background box outer limit\n",
      "    bg_i = 1.5#2.5    # Background box inner limit\n",
      "\n",
      "    ### Preparing channelshift() and bad pixel detections from badpixelsearch.py\n",
      "    rowlimits = [5, 2030]\n",
      "    collimits = [5, 2044]\n",
      "    bestshiftspath = '/local/tmp/mosfire/2014sep18_analysis/bestxshifts.npy'\n",
      "    bestxshifts = np.load(bestshiftspath)\n",
      "    oversamplefactor = 1\n",
      "    def channelshift(image):\n",
      "        ydim, xdim = image.shape\n",
      "        outputpaddingwidth = np.ceil(np.max(bestxshifts)/oversamplefactor)\n",
      "        outputpadding = np.zeros((ydim, outputpaddingwidth))\n",
      "        paddedimage = np.hstack([outputpadding, image, outputpadding])\n",
      "\n",
      "        for row in range(1, ydim):\n",
      "            paddedimage[row] = np.roll(paddedimage[row], int(bestxshifts[row]/oversamplefactor))\n",
      "        return paddedimage\n",
      "\n",
      "    rowlimits = [5, 2030]\n",
      "    collimits = [5, 2044]\n",
      "    shapeimg = pyfits.getdata('/local/tmp/mosfire/2014sep18/m140918_0005.fits')[rowlimits[0]:rowlimits[1],collimits[0]:collimits[1]]\n",
      "\n",
      "    def channelshift_coords(x,y,dims=np.shape(shapeimg)):\n",
      "        image = np.zeros(dims)\n",
      "        image[y,x] = 1\n",
      "        ydim, xdim = image.shape\n",
      "        outputpaddingwidth = np.ceil(np.max(bestxshifts)/oversamplefactor)\n",
      "        outputpadding = np.zeros((ydim, outputpaddingwidth))\n",
      "        paddedimage = np.hstack([outputpadding, image, outputpadding])\n",
      "\n",
      "        for row in range(1, ydim):\n",
      "            paddedimage[row] = np.roll(paddedimage[row], int(bestxshifts[row]/oversamplefactor))\n",
      "        XX, YY = np.meshgrid(range(ydim),range(xdim))\n",
      "        #coords = (XX[paddedimage == 1][0], YY[paddedimage == 1][0])\n",
      "        coords = (np.arange(ydim)[np.sum(paddedimage,axis=0) == 1][0], np.arange(xdim)[np.sum(paddedimage,axis=1) == 1][0])\n",
      "        return coords\n",
      "\n",
      "    badpxls_x = []\n",
      "    badpxls_y = []\n",
      "    badpxls_exp = []\n",
      "    for basepath in ['badpxlseven/','badpxlsodd/']:\n",
      "        badpxls_x.append(np.array(map(float, open(basepath+'variablepxls_x.csv').read().splitlines())))\n",
      "        badpxls_y.append(np.array(map(float, open(basepath+'variablepxls_y.csv').read().splitlines())))\n",
      "        badpxls_exp.append(np.array(map(float, open(basepath+'variablepxls_exp.csv').read().splitlines())))\n",
      "    # for basepath in ['badpxlsodd/','badpxlseven/']:\n",
      "    #     badpxls_x = np.array(map(float, open(basepath+'variablepxls_x.csv').read().splitlines()))\n",
      "    #     badpxls_y = np.array(map(float, open(basepath+'variablepxls_y.csv').read().splitlines()))\n",
      "    #     badpxls_exp = np.array(map(float, open(basepath+'variablepxls_exp.csv').read().splitlines()))\n",
      "\n",
      "    badpxls_x = np.concatenate(badpxls_x)\n",
      "    badpxls_y = np.concatenate(badpxls_y)\n",
      "    badpxls_exp = np.concatenate(badpxls_exp)\n",
      "    meaningfulinds = badpxls_exp != 1e10\n",
      "    badpxls_x = badpxls_x[meaningfulinds]\n",
      "    badpxls_y = badpxls_y[meaningfulinds]\n",
      "    badpxls_exp = badpxls_exp[meaningfulinds]\n",
      "\n",
      "    #################################################################################\n",
      "\n",
      "    ## Galaxy image\n",
      "    galaxyimage = np.load('/astro/users/bmmorris/git/research/keck/2014september/analysis/rightnod/galaxy/wholeframegalaxyimg.npy')\n",
      "    galaxyimagesum = np.load('/astro/users/bmmorris/git/research/keck/2014september/analysis/rightnod/galaxy/wholeframegalaxysum.npy')\n",
      "    compimage = np.load('/astro/users/bmmorris/git/research/keck/2014september/analysis/rightnod/galaxy/wholeframecompimg.npy')\n",
      "\n",
      "    \n",
      "    # Expected transit time:\n",
      "    t0_expected = 2456918.887816  # JD\n",
      "    t0_roughfit = 2456918.8793039066\n",
      "    t14duration_expected = 0.1086 # days\n",
      "\n",
      "    Nbins = 8\n",
      "    paddingbounds = [210, 2130]\n",
      "    spectralbinbounds = np.linspace(paddingbounds[0], paddingbounds[1], Nbins+1, dtype=int)\n",
      "\n",
      "    times = np.zeros(len(wasp6paths_nodsub_odd))\n",
      "    apertureradii = [28]#np.arange(20,40)#[39]#np.arange(30,45)#np.arange(10, 70, 5)#np.arange(14, 25, 2)\n",
      "    chisquared_allbins = np.zeros(len(apertureradii),dtype=float)\n",
      "    # Fluxes/errors dimensions: \n",
      "    # N time series, N stars, N spectral bins, N apertures\n",
      "    fluxes = np.zeros((len(wasp6paths_nodsub_odd), 2, Nbins, len(apertureradii)))\n",
      "    errors = np.zeros_like(fluxes)\n",
      "    centroids = np.zeros((len(wasp6paths_nodsub_odd), 2))\n",
      "    airmass = np.zeros(len(wasp6paths_nodsub_odd))\n",
      "    wavelengthbincenters = np.zeros(Nbins)\n",
      "    exposuredurs = np.zeros(len(wasp6paths_nodsub_odd))\n",
      "\n",
      "    # Bad pixels in core of PSF: correction routine: \n",
      "    badpxlmap = np.load('/astro/users/bmmorris/git/research/keck/2014september/analysis/rightnod/badpxlincoremap.npy')\n",
      "    def correctbp(image, badpxlmap, plots=False, copyimage=True, medianwindow=3):\n",
      "        props = {'cmap':cm.Greys_r, 'origin':'lower', 'vmin':-1.7e6, 'vmax':1.7e6, 'interpolation':'nearest'}\n",
      "        dims = np.shape(badpxlmap)\n",
      "        XX, YY = np.meshgrid(np.arange(dims[1]), np.arange(dims[0]))\n",
      "        if copyimage:\n",
      "            correctedimage = image.copy()\n",
      "        else:\n",
      "            correctedimage = image\n",
      "\n",
      "        if plots:\n",
      "            fig, ax = plt.subplots(1, 2, figsize=(10,10), sharex=True, sharey=True)\n",
      "            ax[0].imshow(image, **props)\n",
      "            ax[0].plot(XX[badpxlmap], YY[badpxlmap], 'rx')\n",
      "\n",
      "        for x, y in zip(XX[badpxlmap], YY[badpxlmap]):\n",
      "            correctedimage[y, x] = np.median(np.concatenate([image[y, x-medianwindow:x], \n",
      "                                                             image[y, x+1:x+medianwindow]]))\n",
      "\n",
      "        if plots:\n",
      "            ax[1].imshow(correctedimage, **props)\n",
      "            ax[1].plot(XX[badpxlmap], YY[badpxlmap], 'rx')\n",
      "            plt.show(block=True)\n",
      "        return correctedimage\n",
      "\n",
      "    targetbounds = [385, 445]\n",
      "    compbounds = [1390, 1460]\n",
      "    roughnodcentroids = [500, 1500] # Rough indices between A and B nods\n",
      "    #apertureradius = 18#20#8\n",
      "    bg_o = 5      # Background box outer limit\n",
      "    bg_i = 1.5#2.5    # Background box inner limit\n",
      "    badpixelclip = 6.0 #sigma\n",
      "    badpxlincore = 0\n",
      "    #for i, imagepath in enumerate(wasp6paths_nodsub_odd[:1]):\n",
      "    for i, imagepath, imagesumpath in zip(range(len(wasp6paths_nodsub_odd)), wasp6paths_nodsub_odd, wasp6paths_sum_odd):\n",
      "        #if i % 50 == 0: print i, 'of', len(wasp6paths_nodsub_odd)\n",
      "        print i, 'of', len(wasp6paths_nodsub_odd)\n",
      "        imagenameindex = int(imagepath.split('/')[-1].split('.')[0].split('_')[1].replace('n',''))\n",
      "        image = pyfits.getdata(imagepath)#[:,paddingbounds[0]:paddingbounds[1]]\n",
      "        header = pyfits.getheader(imagepath)\n",
      "        imagesum = pyfits.getdata(imagesumpath)[:,paddingbounds[0]:paddingbounds[1]]\n",
      "        times[i] = Time('2014-09-18 '+header['UTC'], scale='utc', format='iso').jd\n",
      "        airmass[i] = header['AIRMASS']\n",
      "        exposuredurs[i] = header['TRUITIME']\n",
      "\n",
      "\n",
      "        ## Add in galaxy correction frame\n",
      "        #image += galaxyimage\n",
      "        imagesum += galaxyimagesum[:,paddingbounds[0]:paddingbounds[1]]\n",
      "        \n",
      "        ## Check for bad pixels in this exposure\n",
      "        if imagenameindex in badpxls_exp:\n",
      "            correction_inds = badpxls_exp == imagenameindex\n",
      "\n",
      "            # Replace bad pixels with the median of the nearest 10 pixels in the channel\n",
      "            # if the median turns out to be within 2stddevs of the median of \n",
      "            # the entire image: this will make sure not to correct bad pixels near the\n",
      "            # core of the PSF. \n",
      "            oldimage = np.copy(image)\n",
      "            allmedian = np.median(image)\n",
      "            allstd = np.std(image)\n",
      "\n",
      "            for y_badpxl,x_badpxl in zip(badpxls_x[correction_inds], badpxls_y[correction_inds]):\n",
      "                window = 10\n",
      "                plotbadpxl = False\n",
      "                if x_badpxl-window < 0:\n",
      "                    x_badpxl = window        # Correction January 13, 2015 \n",
      "                windowmedian = np.median(image[x_badpxl-window:x_badpxl+window, y_badpxl])\n",
      "\n",
      "                # windowmedian will return nan for pixels near the edges of images\n",
      "                #print windowmedian, windowmedian, 0.5*allstd, imagepath\n",
      "                if not np.isnan(windowmedian):\n",
      "                    #oldimage = np.copy(image)\n",
      "                    image[x_badpxl,y_badpxl] = windowmedian\n",
      "                    plotbadpxl = False\n",
      "                elif np.isnan(windowmedian):\n",
      "                    plotbadpxl = False\n",
      "                else: \n",
      "                    badpxlincore += 1\n",
      "                    plotbadpxl = True\n",
      "\n",
      "                if plotbadpxl:\n",
      "                    imgm = np.median(oldimage[x_badpxl-window:x_badpxl+window, y_badpxl-window:y_badpxl+window])\n",
      "                    imgstd = np.std(oldimage[x_badpxl-window:x_badpxl+window, y_badpxl-window:y_badpxl+window])\n",
      "                    imgN = 0.5\n",
      "                    fig, ax = plt.subplots(1,2,figsize=(14,8), sharex=True, sharey=True)\n",
      "                    ax[0].imshow(oldimage, interpolation='nearest', origin='lower', \\\n",
      "                                 vmin=imgm-imgN*imgstd, vmax=imgm+imgN*imgstd)            #ys = np.arange(y_badpxl-window,y_badpxl+window)\n",
      "                    ax[1].imshow(image, interpolation='nearest', origin='lower', \\\n",
      "                                 vmin=imgm-imgN*imgstd, vmax=imgm+imgN*imgstd)\n",
      "                    for axes in ax:\n",
      "                        axes.axvline(y_badpxl,lw=2,color='white')\n",
      "                        axes.axhline(x_badpxl,lw=2,color='white')\n",
      "                        axes.set_ylim([x_badpxl-window,x_badpxl+window])\n",
      "                        axes.set_xlim([y_badpxl-window,y_badpxl+window])\n",
      "                    plt.show()\n",
      "\n",
      "        # crop image:\n",
      "        #image = image[:,paddingbounds[0]:paddingbounds[1]]\n",
      "\n",
      "        image = correctbp(image, badpxlmap)\n",
      "        \n",
      "        for j in range(2):\n",
      "            #target star is j=1\n",
      "            leftcentroid, rightcentroid = photPack2.trackStar(image[:,paddingbounds[0]:paddingbounds[1]], [roughnodcentroids[j]-250,\\\n",
      "                                                               roughnodcentroids[j]+250], 0,\\\n",
      "                                                               plots=False, returnCentroidsOnly=True)\n",
      "\n",
      "            # Determine if positive nod is on left side or right side:\n",
      "            if i % 2 == 0:\n",
      "                centroids[i, j] = rightcentroid#leftcentroid\n",
      "            else:\n",
      "                centroids[i, j] = leftcentroid\n",
      "            \n",
      "            galaxyscalefactors = np.zeros((Nbins, len(apertureradii)))\n",
      "            galaxystampsums = np.zeros((Nbins, len(apertureradii)))\n",
      "            for k in range(Nbins):\n",
      "                if j == 0:\n",
      "                    # Determine the ratio of flux between comparison star and galaxy in this \n",
      "                    # spectral bin\n",
      "                    galaxystampsums[k, :] = np.sum(galaxyimage[:,paddingbounds[0]:paddingbounds[1]][:, spectralbinbounds[k]:spectralbinbounds[k+1]])\n",
      "                    galaxyscalefactors[k, :] = galaxystampsums[k, :] /\\\n",
      "                               np.sum(compimage[:,paddingbounds[0]:paddingbounds[1]][:, spectralbinbounds[k]:spectralbinbounds[k+1]])\n",
      "                #print galaxyscalefactors\n",
      "                binimage = image[:,paddingbounds[0]:paddingbounds[1]][:, spectralbinbounds[k]:spectralbinbounds[k+1]]\n",
      "                binimagesum = imagesum[:, spectralbinbounds[k]:spectralbinbounds[k+1]]\n",
      "                wavelengthbincenters[k] = np.mean([wavelengthsoln[spectralbinbounds[k]], wavelengthsoln[spectralbinbounds[k+1]]])\n",
      "                #print leftcentroid, rightcentroid\n",
      "                midnod = np.mean([leftcentroid, rightcentroid])\n",
      "                for l, apertureradius in enumerate(apertureradii):\n",
      "                    background_upper = binimage[centroids[i, j]+bg_i*apertureradius:centroids[i, j]+bg_o*apertureradius,:]\n",
      "                    background_lower = binimage[centroids[i, j]-bg_o*apertureradius:centroids[i, j]-bg_i*apertureradius,:]\n",
      "                    background = np.concatenate([background_upper, background_lower])#np.hstack([background_upper, background_lower])\n",
      "                    meanbackground = np.mean(background)\n",
      "                    rowprofile = np.sum(binimage[centroids[i, j]-10*apertureradius:centroids[i, j]+10*apertureradius,:],axis=1)\n",
      "                    withinaperture = binimage[centroids[i, j]-apertureradius:centroids[i, j]+apertureradius,:]\n",
      "                    withinaperture_sum = binimagesum[centroids[i, j]-apertureradius:centroids[i, j]+apertureradius,:]\n",
      "\n",
      "                    withinaperture_corrected = np.copy(withinaperture)\n",
      "                    medianwindow = 5\n",
      "                    corr_x = []\n",
      "                    corr_y = []\n",
      "                    lastlength = 0\n",
      "                    withinaperture = withinaperture_corrected\n",
      "\n",
      "                    fluxes[i, j, k, l] = (np.sum(withinaperture) - meanbackground*withinaperture.size)/exposuredurs[i]\n",
      "                    errors[i, j, k, l] = (np.sqrt(np.sum(withinaperture_sum) + meanbackground*withinaperture.size))/exposuredurs[i]\n",
      "\n",
      "            # Add in galaxy after fluxes of the comparison star have been measured\n",
      "            if j == 0:\n",
      "                galaxystamp_newsums = fluxes[i, j, :, :]*galaxyscalefactors  # multiply the fluxes of comp star by scale factor\n",
      "                stampscalefactor = np.abs(galaxystamp_newsums/galaxystampsums)\n",
      "                badscalefactors = np.isnan(stampscalefactor) + stampscalefactor == 0\n",
      "                stampscalefactor[badscalefactors] = 1\n",
      "                for k in range(Nbins):\n",
      "                    galaxyimage[:,paddingbounds[0]:paddingbounds[1]][:, \\\n",
      "                                        spectralbinbounds[k]:spectralbinbounds[k+1]] *= stampscalefactor[k,:]\n",
      "                    #print np.sum(galaxyimage[:,paddingbounds[0]:paddingbounds[1]][:, \\\n",
      "                    #                    spectralbinbounds[k]:spectralbinbounds[k+1]]),-galaxystamp_newsums[k,:]\n",
      "                image += galaxyimage\n",
      "        #plt.plot(np.sum(image[leftcentroid-apertureradius:leftcentroid+apertureradius,:],axis=1))\n",
      "    #plt.show()\n",
      "\n",
      "    np.save('photoutputs/fluxes.npy', fluxes)\n",
      "    np.save('photoutputs/errors.npy', errors)\n",
      "    np.save('photoutputs/times.npy', times)\n",
      "    np.save('photoutputs/airmass.npy', airmass)\n",
      "    np.save('photoutputs/wavelengthbincenters.npy', wavelengthbincenters)\n",
      "    np.save('photoutputs/exposuredurs.npy', exposuredurs)\n",
      "else:\n",
      "    print 'Loading pre-calculated photometry'\n",
      "    fluxes = np.load('photoutputs/fluxes.npy')\n",
      "    errors = np.load('photoutputs/errors.npy')\n",
      "    times = np.load('photoutputs/times.npy')\n",
      "    airmass = np.load('photoutputs/airmass.npy')\n",
      "    wavelengthbincenters = np.load('photoutputs/wavelengthbincenters.npy')\n",
      "    exposuredurs = np.load('photoutputs/exposuredurs.npy')\n"
     ],
     "language": "python",
     "metadata": {},
     "outputs": [
      {
       "output_type": "stream",
       "stream": "stdout",
       "text": [
        "Calculating photometry\n",
        "0"
       ]
      },
      {
       "output_type": "stream",
       "stream": "stdout",
       "text": [
        " of 264\n",
        "1"
       ]
      },
      {
       "output_type": "stream",
       "stream": "stdout",
       "text": [
        " of 264\n",
        "2"
       ]
      },
      {
       "output_type": "stream",
       "stream": "stdout",
       "text": [
        " of 264\n",
        "3"
       ]
      },
      {
       "output_type": "stream",
       "stream": "stdout",
       "text": [
        " of 264\n",
        "4"
       ]
      },
      {
       "output_type": "stream",
       "stream": "stdout",
       "text": [
        " of 264\n",
        "5"
       ]
      },
      {
       "output_type": "stream",
       "stream": "stdout",
       "text": [
        " of 264\n",
        "6"
       ]
      },
      {
       "output_type": "stream",
       "stream": "stdout",
       "text": [
        " of 264\n",
        "7"
       ]
      },
      {
       "output_type": "stream",
       "stream": "stdout",
       "text": [
        " of 264\n",
        "8"
       ]
      },
      {
       "output_type": "stream",
       "stream": "stdout",
       "text": [
        " of 264\n",
        "9"
       ]
      },
      {
       "output_type": "stream",
       "stream": "stdout",
       "text": [
        " of 264\n",
        "10"
       ]
      },
      {
       "output_type": "stream",
       "stream": "stdout",
       "text": [
        " of 264\n",
        "11"
       ]
      },
      {
       "output_type": "stream",
       "stream": "stdout",
       "text": [
        " of 264\n",
        "12"
       ]
      },
      {
       "output_type": "stream",
       "stream": "stdout",
       "text": [
        " of 264\n",
        "13"
       ]
      },
      {
       "output_type": "stream",
       "stream": "stdout",
       "text": [
        " of 264\n",
        "14"
       ]
      },
      {
       "output_type": "stream",
       "stream": "stdout",
       "text": [
        " of 264\n",
        "15"
       ]
      },
      {
       "output_type": "stream",
       "stream": "stdout",
       "text": [
        " of 264\n",
        "16"
       ]
      },
      {
       "output_type": "stream",
       "stream": "stdout",
       "text": [
        " of 264\n",
        "17"
       ]
      },
      {
       "output_type": "stream",
       "stream": "stdout",
       "text": [
        " of 264\n",
        "18"
       ]
      },
      {
       "output_type": "stream",
       "stream": "stdout",
       "text": [
        " of 264\n",
        "19"
       ]
      },
      {
       "output_type": "stream",
       "stream": "stdout",
       "text": [
        " of 264\n",
        "20"
       ]
      },
      {
       "output_type": "stream",
       "stream": "stdout",
       "text": [
        " of 264\n",
        "21"
       ]
      },
      {
       "output_type": "stream",
       "stream": "stdout",
       "text": [
        " of 264\n",
        "22"
       ]
      },
      {
       "output_type": "stream",
       "stream": "stdout",
       "text": [
        " of 264\n",
        "23"
       ]
      },
      {
       "output_type": "stream",
       "stream": "stdout",
       "text": [
        " of 264\n",
        "24"
       ]
      },
      {
       "output_type": "stream",
       "stream": "stdout",
       "text": [
        " of 264\n",
        "25"
       ]
      },
      {
       "output_type": "stream",
       "stream": "stdout",
       "text": [
        " of 264\n",
        "26"
       ]
      },
      {
       "output_type": "stream",
       "stream": "stdout",
       "text": [
        " of 264\n",
        "27"
       ]
      },
      {
       "output_type": "stream",
       "stream": "stdout",
       "text": [
        " of 264\n",
        "28"
       ]
      },
      {
       "output_type": "stream",
       "stream": "stdout",
       "text": [
        " of 264\n",
        "29"
       ]
      },
      {
       "output_type": "stream",
       "stream": "stdout",
       "text": [
        " of 264\n",
        "30"
       ]
      },
      {
       "output_type": "stream",
       "stream": "stdout",
       "text": [
        " of 264\n",
        "31"
       ]
      },
      {
       "output_type": "stream",
       "stream": "stdout",
       "text": [
        " of 264\n",
        "32"
       ]
      },
      {
       "output_type": "stream",
       "stream": "stdout",
       "text": [
        " of 264\n",
        "33"
       ]
      },
      {
       "output_type": "stream",
       "stream": "stdout",
       "text": [
        " of 264\n",
        "34"
       ]
      },
      {
       "output_type": "stream",
       "stream": "stdout",
       "text": [
        " of 264\n",
        "35"
       ]
      },
      {
       "output_type": "stream",
       "stream": "stdout",
       "text": [
        " of 264\n",
        "36"
       ]
      },
      {
       "output_type": "stream",
       "stream": "stdout",
       "text": [
        " of 264\n",
        "37"
       ]
      },
      {
       "output_type": "stream",
       "stream": "stdout",
       "text": [
        " of 264\n",
        "38"
       ]
      },
      {
       "output_type": "stream",
       "stream": "stdout",
       "text": [
        " of 264\n",
        "39"
       ]
      },
      {
       "output_type": "stream",
       "stream": "stdout",
       "text": [
        " of 264\n",
        "40"
       ]
      },
      {
       "output_type": "stream",
       "stream": "stdout",
       "text": [
        " of 264\n",
        "41"
       ]
      },
      {
       "output_type": "stream",
       "stream": "stdout",
       "text": [
        " of 264\n",
        "42"
       ]
      },
      {
       "output_type": "stream",
       "stream": "stdout",
       "text": [
        " of 264\n",
        "43"
       ]
      },
      {
       "output_type": "stream",
       "stream": "stdout",
       "text": [
        " of 264\n",
        "44"
       ]
      },
      {
       "output_type": "stream",
       "stream": "stdout",
       "text": [
        " of 264\n",
        "45"
       ]
      },
      {
       "output_type": "stream",
       "stream": "stdout",
       "text": [
        " of 264\n",
        "46"
       ]
      },
      {
       "output_type": "stream",
       "stream": "stdout",
       "text": [
        " of 264\n",
        "47"
       ]
      },
      {
       "output_type": "stream",
       "stream": "stdout",
       "text": [
        " of 264\n",
        "48"
       ]
      },
      {
       "output_type": "stream",
       "stream": "stdout",
       "text": [
        " of 264\n",
        "49"
       ]
      },
      {
       "output_type": "stream",
       "stream": "stdout",
       "text": [
        " of 264\n",
        "50"
       ]
      },
      {
       "output_type": "stream",
       "stream": "stdout",
       "text": [
        " of 264\n",
        "51"
       ]
      },
      {
       "output_type": "stream",
       "stream": "stdout",
       "text": [
        " of 264\n",
        "52"
       ]
      },
      {
       "output_type": "stream",
       "stream": "stdout",
       "text": [
        " of 264\n",
        "53"
       ]
      },
      {
       "output_type": "stream",
       "stream": "stdout",
       "text": [
        " of 264\n",
        "54"
       ]
      },
      {
       "output_type": "stream",
       "stream": "stdout",
       "text": [
        " of 264\n",
        "55"
       ]
      },
      {
       "output_type": "stream",
       "stream": "stdout",
       "text": [
        " of 264\n",
        "56"
       ]
      },
      {
       "output_type": "stream",
       "stream": "stdout",
       "text": [
        " of 264\n",
        "57"
       ]
      },
      {
       "output_type": "stream",
       "stream": "stdout",
       "text": [
        " of 264\n",
        "58"
       ]
      },
      {
       "output_type": "stream",
       "stream": "stdout",
       "text": [
        " of 264\n",
        "59"
       ]
      },
      {
       "output_type": "stream",
       "stream": "stdout",
       "text": [
        " of 264\n",
        "60"
       ]
      },
      {
       "output_type": "stream",
       "stream": "stdout",
       "text": [
        " of 264\n",
        "61"
       ]
      },
      {
       "output_type": "stream",
       "stream": "stdout",
       "text": [
        " of 264\n",
        "62"
       ]
      },
      {
       "output_type": "stream",
       "stream": "stdout",
       "text": [
        " of 264\n",
        "63"
       ]
      },
      {
       "output_type": "stream",
       "stream": "stdout",
       "text": [
        " of 264\n",
        "64"
       ]
      },
      {
       "output_type": "stream",
       "stream": "stdout",
       "text": [
        " of 264\n",
        "65"
       ]
      },
      {
       "output_type": "stream",
       "stream": "stdout",
       "text": [
        " of 264\n",
        "66"
       ]
      },
      {
       "output_type": "stream",
       "stream": "stdout",
       "text": [
        " of 264\n",
        "67"
       ]
      },
      {
       "output_type": "stream",
       "stream": "stdout",
       "text": [
        " of 264\n",
        "68"
       ]
      },
      {
       "output_type": "stream",
       "stream": "stdout",
       "text": [
        " of 264\n",
        "69"
       ]
      },
      {
       "output_type": "stream",
       "stream": "stdout",
       "text": [
        " of 264\n",
        "70"
       ]
      },
      {
       "output_type": "stream",
       "stream": "stdout",
       "text": [
        " of 264\n",
        "71"
       ]
      },
      {
       "output_type": "stream",
       "stream": "stdout",
       "text": [
        " of 264\n",
        "72"
       ]
      },
      {
       "output_type": "stream",
       "stream": "stdout",
       "text": [
        " of 264\n",
        "73"
       ]
      },
      {
       "output_type": "stream",
       "stream": "stdout",
       "text": [
        " of 264\n",
        "74"
       ]
      },
      {
       "output_type": "stream",
       "stream": "stdout",
       "text": [
        " of 264\n",
        "75"
       ]
      },
      {
       "output_type": "stream",
       "stream": "stdout",
       "text": [
        " of 264\n",
        "76"
       ]
      },
      {
       "output_type": "stream",
       "stream": "stdout",
       "text": [
        " of 264\n",
        "77"
       ]
      },
      {
       "output_type": "stream",
       "stream": "stdout",
       "text": [
        " of 264\n",
        "78"
       ]
      },
      {
       "output_type": "stream",
       "stream": "stdout",
       "text": [
        " of 264\n",
        "79"
       ]
      },
      {
       "output_type": "stream",
       "stream": "stdout",
       "text": [
        " of 264\n",
        "80"
       ]
      },
      {
       "output_type": "stream",
       "stream": "stdout",
       "text": [
        " of 264\n",
        "81"
       ]
      },
      {
       "output_type": "stream",
       "stream": "stdout",
       "text": [
        " of 264\n",
        "82"
       ]
      },
      {
       "output_type": "stream",
       "stream": "stdout",
       "text": [
        " of 264\n",
        "83"
       ]
      },
      {
       "output_type": "stream",
       "stream": "stdout",
       "text": [
        " of 264\n",
        "84"
       ]
      },
      {
       "output_type": "stream",
       "stream": "stdout",
       "text": [
        " of 264\n",
        "85"
       ]
      },
      {
       "output_type": "stream",
       "stream": "stdout",
       "text": [
        " of 264\n",
        "86"
       ]
      },
      {
       "output_type": "stream",
       "stream": "stdout",
       "text": [
        " of 264\n",
        "87"
       ]
      },
      {
       "output_type": "stream",
       "stream": "stdout",
       "text": [
        " of 264\n",
        "88"
       ]
      },
      {
       "output_type": "stream",
       "stream": "stdout",
       "text": [
        " of 264\n",
        "89"
       ]
      },
      {
       "output_type": "stream",
       "stream": "stdout",
       "text": [
        " of 264\n",
        "90"
       ]
      },
      {
       "output_type": "stream",
       "stream": "stdout",
       "text": [
        " of 264\n",
        "91"
       ]
      },
      {
       "output_type": "stream",
       "stream": "stdout",
       "text": [
        " of 264\n",
        "92"
       ]
      },
      {
       "output_type": "stream",
       "stream": "stdout",
       "text": [
        " of 264\n",
        "93"
       ]
      },
      {
       "output_type": "stream",
       "stream": "stdout",
       "text": [
        " of 264\n",
        "94"
       ]
      },
      {
       "output_type": "stream",
       "stream": "stdout",
       "text": [
        " of 264\n",
        "95"
       ]
      },
      {
       "output_type": "stream",
       "stream": "stdout",
       "text": [
        " of 264\n",
        "96"
       ]
      },
      {
       "output_type": "stream",
       "stream": "stdout",
       "text": [
        " of 264\n",
        "97"
       ]
      },
      {
       "output_type": "stream",
       "stream": "stdout",
       "text": [
        " of 264\n",
        "98"
       ]
      },
      {
       "output_type": "stream",
       "stream": "stdout",
       "text": [
        " of 264\n",
        "99"
       ]
      },
      {
       "output_type": "stream",
       "stream": "stdout",
       "text": [
        " of 264\n",
        "100"
       ]
      },
      {
       "output_type": "stream",
       "stream": "stdout",
       "text": [
        " of 264\n",
        "101"
       ]
      },
      {
       "output_type": "stream",
       "stream": "stdout",
       "text": [
        " of 264\n",
        "102"
       ]
      },
      {
       "output_type": "stream",
       "stream": "stdout",
       "text": [
        " of 264\n",
        "103"
       ]
      },
      {
       "output_type": "stream",
       "stream": "stdout",
       "text": [
        " of 264\n",
        "104"
       ]
      },
      {
       "output_type": "stream",
       "stream": "stdout",
       "text": [
        " of 264\n",
        "105"
       ]
      },
      {
       "output_type": "stream",
       "stream": "stdout",
       "text": [
        " of 264\n",
        "106"
       ]
      },
      {
       "output_type": "stream",
       "stream": "stdout",
       "text": [
        " of 264\n",
        "107"
       ]
      },
      {
       "output_type": "stream",
       "stream": "stdout",
       "text": [
        " of 264\n",
        "108"
       ]
      },
      {
       "output_type": "stream",
       "stream": "stdout",
       "text": [
        " of 264\n",
        "109"
       ]
      },
      {
       "output_type": "stream",
       "stream": "stdout",
       "text": [
        " of 264\n",
        "110"
       ]
      },
      {
       "output_type": "stream",
       "stream": "stdout",
       "text": [
        " of 264\n",
        "111"
       ]
      },
      {
       "output_type": "stream",
       "stream": "stdout",
       "text": [
        " of 264\n",
        "112"
       ]
      },
      {
       "output_type": "stream",
       "stream": "stdout",
       "text": [
        " of 264\n",
        "113"
       ]
      },
      {
       "output_type": "stream",
       "stream": "stdout",
       "text": [
        " of 264\n",
        "114"
       ]
      },
      {
       "output_type": "stream",
       "stream": "stdout",
       "text": [
        " of 264\n",
        "115"
       ]
      },
      {
       "output_type": "stream",
       "stream": "stdout",
       "text": [
        " of 264\n",
        "116"
       ]
      },
      {
       "output_type": "stream",
       "stream": "stdout",
       "text": [
        " of 264\n",
        "117"
       ]
      },
      {
       "output_type": "stream",
       "stream": "stdout",
       "text": [
        " of 264\n",
        "118"
       ]
      },
      {
       "output_type": "stream",
       "stream": "stdout",
       "text": [
        " of 264\n",
        "119"
       ]
      },
      {
       "output_type": "stream",
       "stream": "stdout",
       "text": [
        " of 264\n",
        "120"
       ]
      },
      {
       "output_type": "stream",
       "stream": "stdout",
       "text": [
        " of 264\n",
        "121"
       ]
      },
      {
       "output_type": "stream",
       "stream": "stdout",
       "text": [
        " of 264\n",
        "122"
       ]
      },
      {
       "output_type": "stream",
       "stream": "stdout",
       "text": [
        " of 264\n",
        "123"
       ]
      },
      {
       "output_type": "stream",
       "stream": "stdout",
       "text": [
        " of 264\n",
        "124"
       ]
      },
      {
       "output_type": "stream",
       "stream": "stdout",
       "text": [
        " of 264\n",
        "125"
       ]
      },
      {
       "output_type": "stream",
       "stream": "stdout",
       "text": [
        " of 264\n",
        "126"
       ]
      },
      {
       "output_type": "stream",
       "stream": "stdout",
       "text": [
        " of 264\n",
        "127"
       ]
      },
      {
       "output_type": "stream",
       "stream": "stdout",
       "text": [
        " of 264\n",
        "128"
       ]
      },
      {
       "output_type": "stream",
       "stream": "stdout",
       "text": [
        " of 264\n",
        "129"
       ]
      },
      {
       "output_type": "stream",
       "stream": "stdout",
       "text": [
        " of 264\n",
        "130"
       ]
      },
      {
       "output_type": "stream",
       "stream": "stdout",
       "text": [
        " of 264\n",
        "131"
       ]
      },
      {
       "output_type": "stream",
       "stream": "stdout",
       "text": [
        " of 264\n",
        "132"
       ]
      },
      {
       "output_type": "stream",
       "stream": "stdout",
       "text": [
        " of 264\n",
        "133"
       ]
      },
      {
       "output_type": "stream",
       "stream": "stdout",
       "text": [
        " of 264\n",
        "134"
       ]
      },
      {
       "output_type": "stream",
       "stream": "stdout",
       "text": [
        " of 264\n",
        "135"
       ]
      },
      {
       "output_type": "stream",
       "stream": "stdout",
       "text": [
        " of 264\n",
        "136"
       ]
      },
      {
       "output_type": "stream",
       "stream": "stdout",
       "text": [
        " of 264\n",
        "137"
       ]
      },
      {
       "output_type": "stream",
       "stream": "stdout",
       "text": [
        " of 264\n",
        "138"
       ]
      },
      {
       "output_type": "stream",
       "stream": "stdout",
       "text": [
        " of 264\n",
        "139"
       ]
      },
      {
       "output_type": "stream",
       "stream": "stdout",
       "text": [
        " of 264\n",
        "140"
       ]
      },
      {
       "output_type": "stream",
       "stream": "stdout",
       "text": [
        " of 264\n",
        "141"
       ]
      },
      {
       "output_type": "stream",
       "stream": "stdout",
       "text": [
        " of 264\n",
        "142"
       ]
      },
      {
       "output_type": "stream",
       "stream": "stdout",
       "text": [
        " of 264\n",
        "143"
       ]
      },
      {
       "output_type": "stream",
       "stream": "stdout",
       "text": [
        " of 264\n",
        "144"
       ]
      },
      {
       "output_type": "stream",
       "stream": "stdout",
       "text": [
        " of 264\n",
        "145"
       ]
      },
      {
       "output_type": "stream",
       "stream": "stdout",
       "text": [
        " of 264\n",
        "146"
       ]
      },
      {
       "output_type": "stream",
       "stream": "stdout",
       "text": [
        " of 264\n",
        "147"
       ]
      },
      {
       "output_type": "stream",
       "stream": "stdout",
       "text": [
        " of 264\n",
        "148"
       ]
      },
      {
       "output_type": "stream",
       "stream": "stdout",
       "text": [
        " of 264\n",
        "149"
       ]
      },
      {
       "output_type": "stream",
       "stream": "stdout",
       "text": [
        " of 264\n",
        "150"
       ]
      },
      {
       "output_type": "stream",
       "stream": "stdout",
       "text": [
        " of 264\n",
        "151"
       ]
      },
      {
       "output_type": "stream",
       "stream": "stdout",
       "text": [
        " of 264\n",
        "152"
       ]
      },
      {
       "output_type": "stream",
       "stream": "stdout",
       "text": [
        " of 264\n",
        "153"
       ]
      },
      {
       "output_type": "stream",
       "stream": "stdout",
       "text": [
        " of 264\n",
        "154"
       ]
      },
      {
       "output_type": "stream",
       "stream": "stdout",
       "text": [
        " of 264\n",
        "155"
       ]
      },
      {
       "output_type": "stream",
       "stream": "stdout",
       "text": [
        " of 264\n",
        "156"
       ]
      },
      {
       "output_type": "stream",
       "stream": "stdout",
       "text": [
        " of 264\n",
        "157"
       ]
      },
      {
       "output_type": "stream",
       "stream": "stdout",
       "text": [
        " of 264\n",
        "158"
       ]
      },
      {
       "output_type": "stream",
       "stream": "stdout",
       "text": [
        " of 264\n",
        "159"
       ]
      },
      {
       "output_type": "stream",
       "stream": "stdout",
       "text": [
        " of 264\n",
        "160"
       ]
      },
      {
       "output_type": "stream",
       "stream": "stdout",
       "text": [
        " of 264\n",
        "161"
       ]
      },
      {
       "output_type": "stream",
       "stream": "stdout",
       "text": [
        " of 264\n",
        "162"
       ]
      },
      {
       "output_type": "stream",
       "stream": "stdout",
       "text": [
        " of 264\n",
        "163"
       ]
      },
      {
       "output_type": "stream",
       "stream": "stdout",
       "text": [
        " of 264\n",
        "164"
       ]
      },
      {
       "output_type": "stream",
       "stream": "stdout",
       "text": [
        " of 264\n",
        "165"
       ]
      },
      {
       "output_type": "stream",
       "stream": "stdout",
       "text": [
        " of 264\n",
        "166"
       ]
      },
      {
       "output_type": "stream",
       "stream": "stdout",
       "text": [
        " of 264\n",
        "167"
       ]
      },
      {
       "output_type": "stream",
       "stream": "stdout",
       "text": [
        " of 264\n",
        "168"
       ]
      },
      {
       "output_type": "stream",
       "stream": "stdout",
       "text": [
        " of 264\n",
        "169"
       ]
      },
      {
       "output_type": "stream",
       "stream": "stdout",
       "text": [
        " of 264\n",
        "170"
       ]
      },
      {
       "output_type": "stream",
       "stream": "stdout",
       "text": [
        " of 264\n",
        "171"
       ]
      },
      {
       "output_type": "stream",
       "stream": "stdout",
       "text": [
        " of 264\n",
        "172"
       ]
      },
      {
       "output_type": "stream",
       "stream": "stdout",
       "text": [
        " of 264\n",
        "173"
       ]
      },
      {
       "output_type": "stream",
       "stream": "stdout",
       "text": [
        " of 264\n",
        "174"
       ]
      },
      {
       "output_type": "stream",
       "stream": "stdout",
       "text": [
        " of 264\n",
        "175"
       ]
      },
      {
       "output_type": "stream",
       "stream": "stdout",
       "text": [
        " of 264\n",
        "176"
       ]
      },
      {
       "output_type": "stream",
       "stream": "stdout",
       "text": [
        " of 264\n",
        "177"
       ]
      },
      {
       "output_type": "stream",
       "stream": "stdout",
       "text": [
        " of 264\n",
        "178"
       ]
      },
      {
       "output_type": "stream",
       "stream": "stdout",
       "text": [
        " of 264\n",
        "179"
       ]
      },
      {
       "output_type": "stream",
       "stream": "stdout",
       "text": [
        " of 264\n",
        "180"
       ]
      },
      {
       "output_type": "stream",
       "stream": "stdout",
       "text": [
        " of 264\n",
        "181"
       ]
      },
      {
       "output_type": "stream",
       "stream": "stdout",
       "text": [
        " of 264\n",
        "182"
       ]
      },
      {
       "output_type": "stream",
       "stream": "stdout",
       "text": [
        " of 264\n",
        "183"
       ]
      },
      {
       "output_type": "stream",
       "stream": "stdout",
       "text": [
        " of 264\n",
        "184"
       ]
      },
      {
       "output_type": "stream",
       "stream": "stdout",
       "text": [
        " of 264\n",
        "185"
       ]
      },
      {
       "output_type": "stream",
       "stream": "stdout",
       "text": [
        " of 264\n",
        "186"
       ]
      },
      {
       "output_type": "stream",
       "stream": "stdout",
       "text": [
        " of 264\n",
        "187"
       ]
      },
      {
       "output_type": "stream",
       "stream": "stdout",
       "text": [
        " of 264\n",
        "188"
       ]
      },
      {
       "output_type": "stream",
       "stream": "stdout",
       "text": [
        " of 264\n",
        "189"
       ]
      },
      {
       "output_type": "stream",
       "stream": "stdout",
       "text": [
        " of 264\n",
        "190"
       ]
      },
      {
       "output_type": "stream",
       "stream": "stdout",
       "text": [
        " of 264\n",
        "191"
       ]
      },
      {
       "output_type": "stream",
       "stream": "stdout",
       "text": [
        " of 264\n",
        "192"
       ]
      },
      {
       "output_type": "stream",
       "stream": "stdout",
       "text": [
        " of 264\n",
        "193"
       ]
      },
      {
       "output_type": "stream",
       "stream": "stdout",
       "text": [
        " of 264\n",
        "194"
       ]
      },
      {
       "output_type": "stream",
       "stream": "stdout",
       "text": [
        " of 264\n",
        "195"
       ]
      },
      {
       "output_type": "stream",
       "stream": "stdout",
       "text": [
        " of 264\n",
        "196"
       ]
      },
      {
       "output_type": "stream",
       "stream": "stdout",
       "text": [
        " of 264\n",
        "197"
       ]
      },
      {
       "output_type": "stream",
       "stream": "stdout",
       "text": [
        " of 264\n",
        "198"
       ]
      },
      {
       "output_type": "stream",
       "stream": "stdout",
       "text": [
        " of 264\n",
        "199"
       ]
      },
      {
       "output_type": "stream",
       "stream": "stdout",
       "text": [
        " of 264\n",
        "200"
       ]
      },
      {
       "output_type": "stream",
       "stream": "stdout",
       "text": [
        " of 264\n",
        "201"
       ]
      },
      {
       "output_type": "stream",
       "stream": "stdout",
       "text": [
        " of 264\n",
        "202"
       ]
      },
      {
       "output_type": "stream",
       "stream": "stdout",
       "text": [
        " of 264\n",
        "203"
       ]
      },
      {
       "output_type": "stream",
       "stream": "stdout",
       "text": [
        " of 264\n",
        "204"
       ]
      },
      {
       "output_type": "stream",
       "stream": "stdout",
       "text": [
        " of 264\n",
        "205"
       ]
      },
      {
       "output_type": "stream",
       "stream": "stdout",
       "text": [
        " of 264\n",
        "206"
       ]
      },
      {
       "output_type": "stream",
       "stream": "stdout",
       "text": [
        " of 264\n",
        "207"
       ]
      },
      {
       "output_type": "stream",
       "stream": "stdout",
       "text": [
        " of 264\n",
        "208"
       ]
      },
      {
       "output_type": "stream",
       "stream": "stdout",
       "text": [
        " of 264\n",
        "209"
       ]
      },
      {
       "output_type": "stream",
       "stream": "stdout",
       "text": [
        " of 264\n",
        "210"
       ]
      },
      {
       "output_type": "stream",
       "stream": "stdout",
       "text": [
        " of 264\n",
        "211"
       ]
      },
      {
       "output_type": "stream",
       "stream": "stdout",
       "text": [
        " of 264\n",
        "212"
       ]
      },
      {
       "output_type": "stream",
       "stream": "stdout",
       "text": [
        " of 264\n",
        "213"
       ]
      },
      {
       "output_type": "stream",
       "stream": "stdout",
       "text": [
        " of 264\n",
        "214"
       ]
      },
      {
       "output_type": "stream",
       "stream": "stdout",
       "text": [
        " of 264\n",
        "215"
       ]
      },
      {
       "output_type": "stream",
       "stream": "stdout",
       "text": [
        " of 264\n",
        "216"
       ]
      },
      {
       "output_type": "stream",
       "stream": "stdout",
       "text": [
        " of 264\n",
        "217"
       ]
      },
      {
       "output_type": "stream",
       "stream": "stdout",
       "text": [
        " of 264\n",
        "218"
       ]
      },
      {
       "output_type": "stream",
       "stream": "stdout",
       "text": [
        " of 264\n",
        "219"
       ]
      },
      {
       "output_type": "stream",
       "stream": "stdout",
       "text": [
        " of 264\n",
        "220"
       ]
      },
      {
       "output_type": "stream",
       "stream": "stdout",
       "text": [
        " of 264\n",
        "221"
       ]
      },
      {
       "output_type": "stream",
       "stream": "stdout",
       "text": [
        " of 264\n",
        "222"
       ]
      },
      {
       "output_type": "stream",
       "stream": "stdout",
       "text": [
        " of 264\n",
        "223"
       ]
      },
      {
       "output_type": "stream",
       "stream": "stdout",
       "text": [
        " of 264\n",
        "224"
       ]
      },
      {
       "output_type": "stream",
       "stream": "stdout",
       "text": [
        " of 264\n",
        "225"
       ]
      },
      {
       "output_type": "stream",
       "stream": "stdout",
       "text": [
        " of 264\n",
        "226"
       ]
      },
      {
       "output_type": "stream",
       "stream": "stdout",
       "text": [
        " of 264\n",
        "227"
       ]
      },
      {
       "output_type": "stream",
       "stream": "stdout",
       "text": [
        " of 264\n",
        "228"
       ]
      },
      {
       "output_type": "stream",
       "stream": "stdout",
       "text": [
        " of 264\n",
        "229"
       ]
      },
      {
       "output_type": "stream",
       "stream": "stdout",
       "text": [
        " of 264\n",
        "230"
       ]
      },
      {
       "output_type": "stream",
       "stream": "stdout",
       "text": [
        " of 264\n",
        "231"
       ]
      },
      {
       "output_type": "stream",
       "stream": "stdout",
       "text": [
        " of 264\n",
        "232"
       ]
      },
      {
       "output_type": "stream",
       "stream": "stdout",
       "text": [
        " of 264\n",
        "233"
       ]
      },
      {
       "output_type": "stream",
       "stream": "stdout",
       "text": [
        " of 264\n",
        "234"
       ]
      },
      {
       "output_type": "stream",
       "stream": "stdout",
       "text": [
        " of 264\n",
        "235"
       ]
      },
      {
       "output_type": "stream",
       "stream": "stdout",
       "text": [
        " of 264\n",
        "236"
       ]
      },
      {
       "output_type": "stream",
       "stream": "stdout",
       "text": [
        " of 264\n",
        "237"
       ]
      },
      {
       "output_type": "stream",
       "stream": "stdout",
       "text": [
        " of 264\n",
        "238"
       ]
      },
      {
       "output_type": "stream",
       "stream": "stdout",
       "text": [
        " of 264\n",
        "239"
       ]
      },
      {
       "output_type": "stream",
       "stream": "stdout",
       "text": [
        " of 264\n",
        "240"
       ]
      },
      {
       "output_type": "stream",
       "stream": "stdout",
       "text": [
        " of 264\n",
        "241"
       ]
      },
      {
       "output_type": "stream",
       "stream": "stdout",
       "text": [
        " of 264\n",
        "242"
       ]
      },
      {
       "output_type": "stream",
       "stream": "stdout",
       "text": [
        " of 264\n",
        "243"
       ]
      },
      {
       "output_type": "stream",
       "stream": "stdout",
       "text": [
        " of 264\n",
        "244"
       ]
      },
      {
       "output_type": "stream",
       "stream": "stdout",
       "text": [
        " of 264\n",
        "245"
       ]
      },
      {
       "output_type": "stream",
       "stream": "stdout",
       "text": [
        " of 264\n",
        "246"
       ]
      },
      {
       "output_type": "stream",
       "stream": "stdout",
       "text": [
        " of 264\n",
        "247"
       ]
      },
      {
       "output_type": "stream",
       "stream": "stdout",
       "text": [
        " of 264\n",
        "248"
       ]
      },
      {
       "output_type": "stream",
       "stream": "stdout",
       "text": [
        " of 264\n",
        "249"
       ]
      },
      {
       "output_type": "stream",
       "stream": "stdout",
       "text": [
        " of 264\n",
        "250"
       ]
      },
      {
       "output_type": "stream",
       "stream": "stdout",
       "text": [
        " of 264\n",
        "251"
       ]
      },
      {
       "output_type": "stream",
       "stream": "stdout",
       "text": [
        " of 264\n",
        "252"
       ]
      },
      {
       "output_type": "stream",
       "stream": "stdout",
       "text": [
        " of 264\n",
        "253"
       ]
      },
      {
       "output_type": "stream",
       "stream": "stdout",
       "text": [
        " of 264\n",
        "254"
       ]
      },
      {
       "output_type": "stream",
       "stream": "stdout",
       "text": [
        " of 264\n",
        "255"
       ]
      },
      {
       "output_type": "stream",
       "stream": "stdout",
       "text": [
        " of 264\n",
        "256"
       ]
      },
      {
       "output_type": "stream",
       "stream": "stdout",
       "text": [
        " of 264\n",
        "257"
       ]
      },
      {
       "output_type": "stream",
       "stream": "stdout",
       "text": [
        " of 264\n",
        "258"
       ]
      },
      {
       "output_type": "stream",
       "stream": "stdout",
       "text": [
        " of 264\n",
        "259"
       ]
      },
      {
       "output_type": "stream",
       "stream": "stdout",
       "text": [
        " of 264\n",
        "260"
       ]
      },
      {
       "output_type": "stream",
       "stream": "stdout",
       "text": [
        " of 264\n",
        "261"
       ]
      },
      {
       "output_type": "stream",
       "stream": "stdout",
       "text": [
        " of 264\n",
        "262"
       ]
      },
      {
       "output_type": "stream",
       "stream": "stdout",
       "text": [
        " of 264\n",
        "263"
       ]
      },
      {
       "output_type": "stream",
       "stream": "stdout",
       "text": [
        " of 264\n"
       ]
      }
     ],
     "prompt_number": 4
    },
    {
     "cell_type": "code",
     "collapsed": false,
     "input": [
      "#pyfits.writeto('brokenimg.fits', image)\n",
      "print stampscalefactor"
     ],
     "language": "python",
     "metadata": {},
     "outputs": [
      {
       "output_type": "stream",
       "stream": "stdout",
       "text": [
        "[[  0.]\n",
        " [ nan]\n",
        " [ nan]\n",
        " [ nan]\n",
        " [ nan]\n",
        " [  0.]\n",
        " [  0.]\n",
        " [ nan]]\n"
       ]
      }
     ],
     "prompt_number": 58
    },
    {
     "cell_type": "heading",
     "level": 3,
     "metadata": {},
     "source": [
      "Plot photometry"
     ]
    },
    {
     "cell_type": "code",
     "collapsed": false,
     "input": [
      "lightcurve = fluxes[:, 1, :, 0]/fluxes[:, 0, :, 0]\n",
      "lightcurve_errors = lightcurve*np.sqrt((errors[:, 1, :, 0]/fluxes[:, 1, :, 0])**2 + (errors[:, 0, :, 0]/fluxes[:, 0, :, 0])**2)\n",
      "Nbins = np.shape(lightcurve)[1]\n",
      "#oot = (times < t0_roughfit - t14duration_expected/2.0) +      (times > t0_roughfit + t14duration_expected/2.0)\n",
      "mintimeint = int(np.min(times))\n",
      "cmap = plt.cm.autumn\n",
      "fig, ax = plt.subplots(1, figsize=(14,14))\n",
      "for eachbin in range(len(lightcurve[0,:])):\n",
      "    ax.errorbar(times - mintimeint, lightcurve[:,eachbin] + eachbin*0.02, \\\n",
      "                yerr=lightcurve_errors[:,eachbin], fmt='.', color=cmap(1 - eachbin / float(Nbins)), ecolor='gray')\n",
      "    ax.set_xlabel('JD - %d' % mintimeint)\n",
      "    ax.set_ylabel('Relative Flux')\n",
      "    ax.grid()\n",
      "plt.show()"
     ],
     "language": "python",
     "metadata": {},
     "outputs": [
      {
       "metadata": {},
       "output_type": "display_data",
       "png": "[encoded data removed]",
       "text": [
        "<matplotlib.figure.Figure at 0x7feece85ead0>"
       ]
      }
     ],
     "prompt_number": 5
    },
    {
     "cell_type": "heading",
     "level": 1,
     "metadata": {},
     "source": [
      "Set up MCMC fit"
     ]
    },
    {
     "cell_type": "markdown",
     "metadata": {},
     "source": [
      "Parameters to **link**: $a/R_s,\\; i, \\; t_0, \\; u_1, \\; u_2$\n",
      "\n",
      "Parameters to **float everywhere**: $R_p/R_s, \\; F_0, \\; c_X$\n",
      "\n",
      "Parameters to **lock**: $P, \\; e, \\;\\omega$"
     ]
    },
    {
     "cell_type": "code",
     "collapsed": false,
     "input": [
      "import sys\n",
      "sys.path.append('/astro/users/bmmorris/Downloads/Fast_MA')\n",
      "from ext_func.rsky import rsky\n",
      "from ext_func.occultquad import occultquad\n",
      "# def get_lc(aRs, i, t0, q1, q2, p0, F0, am, e, w, period, eps, t, airmassvector=airmass):\n",
      "#     '''\n",
      "#     e - eccentricity\n",
      "#     aRs - \"a over R-star\"\n",
      "#     i - inclination angle in radians\n",
      "#     u1, u2 - quadratic limb-darkening coeffs\n",
      "#     p0 - planet to star radius ratio\n",
      "#     w - argument of periapse\n",
      "#     period - period\n",
      "#     t0 - midtransit (JD)\n",
      "#     eps - minimum eccentricity for Kepler's equation\n",
      "#     t - time array\n",
      "#     '''\n",
      "#     u1 = 2*np.sqrt(q1)*q2\n",
      "#     u2 = np.sqrt(q1)*(1 - 2*q2)\n",
      "#     r_s = 1.0\n",
      "#     npoints = len(t)\n",
      "#     #print e, aRs, i,u1, u2, p0, w, period\n",
      "#     z0 = rsky(e, aRs, i, r_s, w, period, t0, eps, t)   #calculates separation of centers between the planet and the star\n",
      "#     mu_c = occultquad(z0, u1, u2, p0, npoints)   #returns limb darkened model lightcurve\n",
      "#     return (F0/am)*mu_c*(am + (airmassvector - 1))\n",
      "def get_lc(aRs, i, t0, q1, q2, p0, F0, e, w, period, eps, t):\n",
      "    '''\n",
      "    e - eccentricity\n",
      "    aRs - \"a over R-star\"\n",
      "    i - inclination angle in radians\n",
      "    u1, u2 - quadratic limb-darkening coeffs\n",
      "    p0 - planet to star radius ratio\n",
      "    w - argument of periapse\n",
      "    period - period\n",
      "    t0 - midtransit (JD)\n",
      "    eps - minimum eccentricity for Kepler's equation\n",
      "    t - time array\n",
      "    '''\n",
      "    u1 = 2*np.sqrt(q1)*q2\n",
      "    u2 = np.sqrt(q1)*(1 - 2*q2)\n",
      "    r_s = 1.0\n",
      "    npoints = len(t)\n",
      "    #print e, aRs, i,u1, u2, p0, w, period\n",
      "    z0 = rsky(e, aRs, i, r_s, w, period, t0, eps, t)   #calculates separation of centers between the planet and the star\n",
      "    mu_c = occultquad(z0, u1, u2, p0, npoints)   #returns limb darkened model lightcurve\n",
      "    return F0*mu_c\n",
      "\n",
      "from scipy import optimize\n",
      "aOverRs = 1./0.0932 # Jord`an et al 2013\n",
      "RpOverRs = 0.1404   # Jord`an et al 2013\n",
      "eccentricity = 0\n",
      "inclination = 88.47*np.pi/180\n",
      "q1 = 0.00001\n",
      "q2 = 0.2\n",
      "periapse = np.pi/2\n",
      "period = 3.361006\n",
      "mineccentricity = 1.0e-7\n",
      "t0_roughfit = 2456918.8793039066\n",
      "\n",
      "Nbins = np.shape(lightcurve)[1]\n",
      "print Nbins\n",
      "# aRs, i, t0, RpRs, LD, F0, am\n",
      "paramlimits = [[8.0, 14.0],  #aRs\n",
      "               [85*np.pi/180, 95.0*np.pi/180],\n",
      "               [np.min(times), np.max(times)],\n",
      "               [0, 1.0], [0, 1.0]] +\\\n",
      "               Nbins*[[0.0, 0.3]] + \\\n",
      "               Nbins*[[0.1, 10]] + \\\n",
      "               Nbins*[[0.0, 9.0]]\n",
      "#               Nbins*[[1.0, 1e3]]\n",
      "lastp = 0\n",
      "\n",
      "meantimediff = np.median(np.diff(times))\n",
      "exptime = np.median(exposuredurs)/(60*60*24) # convert to units of days from seconds\n",
      "def fine_lc(aRs, i, t0, q1, q2, p0, F0, e, w, period, eps, t, meantimediff=meantimediff):\n",
      "    new_t = np.linspace(t.min() - 2*meantimediff, t.max() + 2*meantimediff, 5*len(t))\n",
      "    return new_t, get_lc(aRs, i, t0, q1, q2, p0, F0, e, w, period, eps, new_t)\n",
      "\n",
      "def binned_lc(aOverRs, inclination, t0_roughfit, q1, q2, RpOverRs, F0, am, eccentricity, \n",
      "              periapse, period, eps, t, airmassvector=airmass, exptime=exptime):\n",
      "    new_t, finemodel = fine_lc(aOverRs, inclination, t0_roughfit, q1, q2, RpOverRs, \n",
      "                               F0, eccentricity, periapse, period, eps, t)\n",
      "    timebinedges = np.sort(np.concatenate([t - 0.5*exptime, t + 0.5*exptime]))\n",
      "    d = np.digitize(new_t, timebinedges)\n",
      "    binned_model = np.array([np.mean(finemodel[d == i]) for i in range(1, 2*len(t), 2)])\n",
      "    #return binned_model*(am + (airmassvector - 1))/am\n",
      "    return binned_model*(1 + (airmassvector - 1)/am)\n",
      "\n",
      "def genmodel(parameters, Nbins=Nbins):\n",
      "    model = np.zeros_like(lightcurve)\n",
      "    #ld_params = parameters[3+Nbins:3+4*Nbins].tolist()\n",
      "    RpRs_params = parameters[5:5+Nbins]#.tolist()\n",
      "    F0_params = parameters[5+Nbins:5+2*Nbins]#.tolist()\n",
      "    am_params = np.exp(parameters[5+2*Nbins:])#.tolist()\n",
      "    for eachbin in xrange(Nbins):\n",
      "        #aRs, i, t0, q1, q2, p0, F0, e, w, period, eps, t\n",
      "        lcparams = parameters[0:5].tolist() + \\\n",
      "                    [RpRs_params[eachbin], F0_params[eachbin], am_params[eachbin], eccentricity, \\\n",
      "                     periapse, period, 1e-7, times] # Fixed params\n",
      "        #model[:,eachbin] = get_lc(*lcparams)\n",
      "        #print lcparams\n",
      "        model[:,eachbin] = binned_lc(*lcparams)\n",
      "    return model\n",
      "\n",
      "def lnlike(theta, x, y, yerr):\n",
      "    model = genmodel(theta)\n",
      "    return -0.5*(np.sum((y-model)**2/yerr**2))# - np.log(inv_sigma2)))\n",
      "\n",
      "def lnprior(theta, paramlimits=paramlimits):\n",
      "    parameters = theta\n",
      "    # If parameter is locked, limits are set to [0,0]. If parameter is not locked,\n",
      "    # check that all values for that parameter are within the set limits. If they are,\n",
      "    # return 0.0, else return -np.inf\n",
      "    for i, limits in enumerate(paramlimits):\n",
      "        if not ((limits[0] < parameters[i]) and (parameters[i] < limits[1])):\n",
      "            return -np.inf\n",
      "    return 0.0\n",
      "\n",
      "def lnprob(theta, x, y, yerr):\n",
      "    lp = lnprior(theta)\n",
      "    if not np.isfinite(lp):\n",
      "        return -np.inf\n",
      "    return lp + lnlike(theta, x, y, yerr)\n",
      "\n",
      "\n",
      "# #Describe initial fit parameters by hand \n",
      "# init_ld = Nbins*[0.2, 0.2]\n",
      "# init_ld = [0.2, 0.2]\n",
      "# init_RpRs = Nbins*[RpOverRs]\n",
      "# init_F0 = (0.999*np.median(lightcurve, axis=0)).tolist()#Nbins*[0.9] \n",
      "# #init_am = Nbins*[50.0] \n",
      "# init_am = Nbins*[50.0] \n",
      "# initP = np.array([aOverRs, inclination, t0_roughfit] + init_ld + init_RpRs + init_F0 + init_am)\n",
      "\n",
      "\n",
      "# Use previous fit parameters as the new intial parameters:\n",
      "#initP = np.load('max_lnp_params_201412111513.npy')# np.load('max_lnp_params_201412111340.npy')#np.load('max_lnp_params.npy')\n",
      "initP = np.load('max_lnp_params_201501131324.npy') # Begin with best fit from phot_fit-finetime.ipynb\n",
      "#initP[-10:] = 50.00\n",
      "#initP[-20:-10] *= 0.995\n",
      "#initP[-Nbins:] = 6.2\n",
      "labels = ['aRs', 'i', 't0'] + ['q1','q2'] + Nbins*['RpRs'] + Nbins*['F0'] + Nbins*['am']\n",
      "\n",
      "for i, p in enumerate(initP):\n",
      "    print labels[i], p\n",
      "    \n",
      "assert lnprior(initP) != -np.inf,'init condition does not satisfy priors'\n",
      "\n"
     ],
     "language": "python",
     "metadata": {},
     "outputs": [
      {
       "output_type": "stream",
       "stream": "stdout",
       "text": [
        "8\n",
        "aRs 11.7162310163\n",
        "i 1.57467546379\n",
        "t0 2456918.87855\n",
        "q1 0.00465561970724\n",
        "q2 0.603031176352\n",
        "RpRs 0.137597124949\n",
        "RpRs 0.133011443094\n",
        "RpRs 0.134876028703\n",
        "RpRs 0.132445051275\n",
        "RpRs 0.129682534583\n",
        "RpRs 0.148124535128\n",
        "RpRs 0.141062934425\n",
        "RpRs 0.135408556583\n",
        "F0 0.779489621689\n",
        "F0 0.773478453788\n",
        "F0 0.778685354965\n",
        "F0 0.774996306228\n",
        "F0 0.778717765681\n",
        "F0 0.797995468011\n",
        "F0 0.817457143064\n",
        "F0 0.811771597352\n",
        "am 5.91226732215\n",
        "am 4.03582267449\n",
        "am 6.29587523647\n",
        "am 5.40786033225\n",
        "am 5.03636082271\n",
        "am 8.15709173187\n",
        "am 6.7569867546\n",
        "am 5.65750573785\n"
       ]
      }
     ],
     "prompt_number": 7
    },
    {
     "cell_type": "heading",
     "level": 3,
     "metadata": {},
     "source": [
      "Show initial parameters"
     ]
    },
    {
     "cell_type": "code",
     "collapsed": false,
     "input": [
      "model = genmodel(initP)\n",
      "fig, ax = plt.subplots(1, figsize=(14,14))\n",
      "for eachbin in range(len(lightcurve[0,:])):\n",
      "    ax.errorbar(times - mintimeint, lightcurve[:,eachbin] + eachbin*0.02, \\\n",
      "                yerr=lightcurve_errors[:,eachbin], fmt='.', color=cmap(1 - eachbin / float(Nbins)), ecolor='gray')\n",
      "    ax.plot(times - mintimeint, model[:,eachbin] + eachbin*0.02, 'k')\n",
      "    ax.set_xlabel('JD - %d' % mintimeint)\n",
      "    ax.set_ylabel('Relative Flux')\n",
      "ax.grid()\n",
      "ax.set_title('Init Params')\n",
      "plt.show()"
     ],
     "language": "python",
     "metadata": {},
     "outputs": [
      {
       "metadata": {},
       "output_type": "display_data",
       "png": "[encoded data removed]",
       "text": [
        "<matplotlib.figure.Figure at 0x7f46940a9b10>"
       ]
      }
     ],
     "prompt_number": 8
    },
    {
     "cell_type": "code",
     "collapsed": false,
     "input": [
      "# print np.concatenate([1e-3*np.random.randn(len(initP[:-10])), 3*np.random.randn(len(initP[-10:]))])\n",
      "# print [initP + np.concatenate([1e-3*np.random.randn(len(initP[:-10])), \n",
      "#        10*np.random.randn(len(initP[-10:]))]) for i in range(nwalkers)][0]"
     ],
     "language": "python",
     "metadata": {},
     "outputs": [],
     "prompt_number": 114
    },
    {
     "cell_type": "code",
     "collapsed": false,
     "input": [
      "Nfreeparameters = len(initP)\n",
      "\n",
      "ndim = Nfreeparameters\n",
      "nwalkers = 2*Nfreeparameters if 2*Nfreeparameters % 2 == 0 else 2*Nfreeparameters + 1\n",
      "\n",
      "#pos = [initP + 1e-3*np.random.randn(len(initP)) for i in range(nwalkers)]\n",
      "pos = [initP + np.concatenate([1e-4*np.random.randn(len(initP[:-Nbins])), \n",
      "       1e-1*np.random.randn(len(initP[-Nbins:]))]) for i in range(nwalkers)]\n",
      "Nhours = 30\n",
      "Nsteps = Nhours*2.7e3#1.8e3\n",
      "sampler = emcee.EnsembleSampler(nwalkers, ndim, lnprob, \\\n",
      "          args=(times, lightcurve, lightcurve_errors))\n",
      "\n",
      "print 'ndim =', ndim\n",
      "print 'nwalkers =', nwalkers\n",
      "\n",
      "print \"Running initial burn in\"\n",
      "p0, _, _ = sampler.run_mcmc(pos, 50)\n",
      "sampler.reset()\n",
      "\n",
      "#pos = [p0[i] + 1e-2*np.random.randn(len(initP)) for i in range(nwalkers)]\n",
      "print \"Running production chains\"\n",
      "import datetime\n",
      "print 'Start time:', datetime.datetime.now()\n",
      "\n",
      "#p0, _, _ = sampler.run_mcmc(p0, Nsteps)\n",
      "chainpath = '/local/tmp/mosfire/longchains/bpcorr/'\n",
      "f = open(chainpath+\"chain.dat\", \"w\") #iterations=500 -> 42 MB for raw text\n",
      "f.write('#'+' '.join(labels)+'\\n')\n",
      "f.close()\n",
      "for result in sampler.sample(p0, iterations=Nsteps, storechain=False):\n",
      "    f = open(chainpath+\"chain.dat\", \"a\")\n",
      "    for k in range(result[0].shape[0]):\n",
      "        f.write(\"{0} {1} {2}\\n\".format(k, result[1][k], \" \".join(map(str,result[0][k]))))\n",
      "    f.close()\n",
      "print 'End time:', datetime.datetime.now()"
     ],
     "language": "python",
     "metadata": {},
     "outputs": [
      {
       "output_type": "stream",
       "stream": "stdout",
       "text": [
        "ndim = 29\n",
        "nwalkers = 58\n",
        "Running initial burn in\n",
        "Running production chains"
       ]
      },
      {
       "output_type": "stream",
       "stream": "stdout",
       "text": [
        "\n",
        "Start time: 2015-01-13 13:30:11.700523\n",
        "End time:"
       ]
      },
      {
       "output_type": "stream",
       "stream": "stdout",
       "text": [
        " 2015-01-14 22:35:55.292427\n"
       ]
      }
     ],
     "prompt_number": 9
    },
    {
     "cell_type": "code",
     "collapsed": false,
     "input": [
      "burninfraction = 0.3\n",
      "samples = sampler.chain[:, burninfraction*Nsteps:, :].reshape((-1, ndim))\n",
      "\n",
      "#np.save('thirdchain20141210.npy', samples[::50,:])\n",
      "\n",
      "import triangle\n",
      "\n",
      "# trifig, ax = plt.subplots(Nfreeparameters, Nfreeparameters, figsize=(16, 16))\n",
      "# fig2 = triangle.corner(samples[:, :], labels=labels, \n",
      "#                        fig=trifig, plot_datapoints=False) # truths=[t0_expected, aOverRs, RpOverRs, scale, 1]\n",
      "# plt.show()\n",
      "\n",
      "def medplusminus(vector):\n",
      "    return map(lambda v: (v[1], v[2]-v[1], v[1]-v[0]), zip(*np.percentile(vector, [16, 50, 84])))\n",
      "\n",
      "print np.shape(samples)\n",
      "for i, l in enumerate(labels):#range(len(samples[0,:])):\n",
      "    v = np.percentile(samples[:,i], [16, 50, 84])\n",
      "    print l, v[1], v[2]-v[1], v[1]-v[0]\n",
      "\n",
      "# for p, l in zip(lastp, labels):\n",
      "#     print l, p"
     ],
     "language": "python",
     "metadata": {},
     "outputs": []
    },
    {
     "cell_type": "code",
     "collapsed": false,
     "input": [
      "# model = genmodel(lastp)\n",
      "# fig, ax = plt.subplots(1, figsize=(14,14))\n",
      "# for eachbin in range(len(lightcurve[0,:])):\n",
      "#     ax.errorbar(times - mintimeint, lightcurve[:,eachbin] + eachbin*0.02, \\\n",
      "#                 yerr=lightcurve_errors[:,eachbin], fmt='.', color=cmap(1 - eachbin / float(Nbins)), ecolor='gray')\n",
      "#     ax.plot(times - mintimeint, model[:,eachbin])\n",
      "#     ax.set_xlabel('JD - %d' % mintimeint)\n",
      "#     ax.set_ylabel('Relative Flux')\n",
      "#     ax.grid()\n",
      "# plt.show()"
     ],
     "language": "python",
     "metadata": {},
     "outputs": [],
     "prompt_number": 7
    },
    {
     "cell_type": "code",
     "collapsed": false,
     "input": [
      "fig, ax = plt.subplots(1, figsize=(8,8))\n",
      "Nhistbins = 50\n",
      "sampleind = 10\n",
      "n, edges = np.histogram(samples[:,sampleind], Nhistbins)\n",
      "x = np.array([0.5*(edges[i] + edges[i+1]) for i in range(len(edges) - 1)])\n",
      "x *= 180./np.pi if sampleind == 1 else 1.0\n",
      "\n",
      "ax.plot(x, n)\n",
      "ax.set_title(labels[sampleind])\n",
      "plt.show()\n"
     ],
     "language": "python",
     "metadata": {},
     "outputs": []
    },
    {
     "cell_type": "code",
     "collapsed": false,
     "input": [
      "RpRs = samples[:,3:3+Nbins]\n",
      "print np.shape(RpRs)\n",
      "print np.median(RpRs, axis=0)#np.percentile(RpRs, 50, axis=0)\n",
      "\n",
      "plt.plot(np.percentile(RpRs, 50, axis=0), color='k', lw=2)\n",
      "plt.fill_between(range(Nbins),np.percentile(RpRs, 16, axis=0), np.percentile(RpRs, 84, axis=0), color='k', alpha=0.3)\n",
      "plt.show()"
     ],
     "language": "python",
     "metadata": {},
     "outputs": []
    },
    {
     "cell_type": "code",
     "collapsed": false,
     "input": [
      "model = genmodel(np.mean(p0,axis=0))\n",
      "fig, ax = plt.subplots(1, figsize=(14,14))\n",
      "for eachbin in range(len(lightcurve[0,:])):\n",
      "    ax.errorbar(times - mintimeint, lightcurve[:,eachbin] + eachbin*0.025, \\\n",
      "                yerr=lightcurve_errors[:,eachbin], fmt='.', color=cmap(1 - eachbin / float(Nbins)), ecolor='gray')\n",
      "    ax.plot(times - mintimeint, model[:,eachbin]+ eachbin*0.025)\n",
      "    ax.set_xlabel('JD - %d' % mintimeint)\n",
      "    ax.set_ylabel('Relative Flux')\n",
      "    ax.grid()\n",
      "plt.show()"
     ],
     "language": "python",
     "metadata": {},
     "outputs": []
    },
    {
     "cell_type": "code",
     "collapsed": false,
     "input": [
      "pwd"
     ],
     "language": "python",
     "metadata": {},
     "outputs": [
      {
       "metadata": {},
       "output_type": "pyout",
       "prompt_number": 5,
       "text": [
        "u'/astro/users/bmmorris/git/research/keck/2014september/analysis/bothnods'"
       ]
      }
     ],
     "prompt_number": 5
    },
    {
     "cell_type": "code",
     "collapsed": false,
     "input": [
      "#spectralbinbounds = np.linspace(paddingbounds[0], paddingbounds[1], Nbins+1, dtype=int)\n",
      "#print spectralbinbounds\n",
      "\n",
      "firstlines = \\\n",
      "'''\n",
      "# Region file format: DS9 version 4.1\n",
      "global color=green dashlist=8 3 width=1 font=\"helvetica 10 normal roman\" select=1 highlite=1 dash=0 fixed=0 edit=1 move=1 delete=1 include=1 source=1\n",
      "physical\n",
      "'''\n",
      "\n",
      "# Box format:\n",
      "# centerx centery widthx widthy rot\n",
      "with open('binregions.reg','w') as reg:\n",
      "    for i in range(len(spectralbinbounds)-1):\n",
      "        centerx =  0.5*(spectralbinbounds[i] + spectralbinbounds[i+1])\n",
      "        centery = 2024/2\n",
      "        widthx = spectralbinbounds[i+1] - spectralbinbounds[i]\n",
      "        widthy = 2024\n",
      "        angle = 0\n",
      "        linewidth = 3\n",
      "        wavelength = wavelengthbincenters[i]\n",
      "        reg.write(\"box({0:f},{1:f},{2:f},{3:f},{4:f}) # width={5} text={{{6:.3f}}} \\n\".format(\n",
      "                  centerx, centery, widthx, widthy, angle, linewidth, wavelength))"
     ],
     "language": "python",
     "metadata": {},
     "outputs": [],
     "prompt_number": 27
    },
    {
     "cell_type": "code",
     "collapsed": false,
     "input": [],
     "language": "python",
     "metadata": {},
     "outputs": []
    }
   ],
   "metadata": {}
  }
 ]
}