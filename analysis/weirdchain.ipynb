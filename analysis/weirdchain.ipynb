{
 "metadata": {
  "name": "",
  "signature": "sha256:992198d6880f03630f19ebe04d9253bcfee2a421f68318ba2ae9092e64b00040"
 },
 "nbformat": 3,
 "nbformat_minor": 0,
 "worksheets": [
  {
   "cells": [
    {
     "cell_type": "code",
     "collapsed": false,
     "input": [
      "%pylab inline\n",
      "import pyfits\n",
      "import numpy as np\n",
      "import matplotlib\n",
      "matplotlib.rcParams['font.size'] = 15\n",
      "from matplotlib import pyplot as plt\n",
      "import sys\n",
      "sys.path.append('../')\n",
      "import photPack2\n",
      "from astropy.time import Time\n",
      "import emcee\n",
      "\n",
      "import sys\n",
      "sys.path.append('/astro/users/bmmorris/Downloads/Fast_MA')\n",
      "from ext_func.rsky import rsky\n",
      "from ext_func.occultquad import occultquad"
     ],
     "language": "python",
     "metadata": {},
     "outputs": [
      {
       "output_type": "stream",
       "stream": "stdout",
       "text": [
        "Populating the interactive namespace from numpy and matplotlib\n"
       ]
      }
     ],
     "prompt_number": 1
    },
    {
     "cell_type": "code",
     "collapsed": false,
     "input": [],
     "language": "python",
     "metadata": {},
     "outputs": [],
     "prompt_number": 0
    },
    {
     "cell_type": "code",
     "collapsed": false,
     "input": [],
     "language": "python",
     "metadata": {},
     "outputs": []
    },
    {
     "cell_type": "code",
     "collapsed": false,
     "input": [
      "%%bash\n",
      "python /local/tmp/mosfire/longchains/bothnods/splitoffend.py"
     ],
     "language": "python",
     "metadata": {},
     "outputs": [],
     "prompt_number": 2
    },
    {
     "cell_type": "code",
     "collapsed": false,
     "input": [
      "chains = np.loadtxt('/local/tmp/mosfire/longchains/bothnods/short.dat')\n",
      "burnin = int(0.*chains.shape[0])\n",
      "lnp = chains[burnin:, 1]\n",
      "samples = chains[burnin:, 2:]"
     ],
     "language": "python",
     "metadata": {},
     "outputs": [],
     "prompt_number": 3
    },
    {
     "cell_type": "code",
     "collapsed": false,
     "input": [
      "RpRs = samples[:,0]\n",
      "RpRs_i = samples[:,0][13::58]\n",
      "#plt.plot(RpRs,'.',alpha=0.1)\n",
      "plt.plot(RpRs_i,'.',alpha=0.1)\n",
      "plt.show()"
     ],
     "language": "python",
     "metadata": {},
     "outputs": [
      {
       "metadata": {},
       "output_type": "display_data",
       "png": "[encoded data removed]",
       "text": [
        "<matplotlib.figure.Figure at 0x7f04d5086e90>"
       ]
      }
     ],
     "prompt_number": 24
    },
    {
     "cell_type": "code",
     "collapsed": false,
     "input": [
      "times = [0,1]\n",
      "Nbins= 8\n",
      "paramlimits = [[8.0, 14.0],  #aRs\n",
      "               [85*np.pi/180, 95.0*np.pi/180],\n",
      "               [2456918.87861-1, 2456918.87861+1],\n",
      "               [0, 1.0], [0, 1.0]] +\\\n",
      "               Nbins*[[0.0, 0.3]] + \\\n",
      "               Nbins*[[0.1, 10]] + \\\n",
      "               Nbins*[[1.0, 1e3]]\n",
      "labels = ['aRs', 'i', 't0'] + ['q1','q2'] + Nbins*['RpRs'] + Nbins*['F0'] + Nbins*['am']\n",
      "\n",
      "initP = np.load('max_lnp_params_201412202206.npy')\n",
      "initP[-8:] = 500.00\n",
      "\n",
      "for l, p, i in zip(labels, paramlimits, initP):\n",
      "    print l, p, i"
     ],
     "language": "python",
     "metadata": {},
     "outputs": [
      {
       "output_type": "stream",
       "stream": "stdout",
       "text": [
        "aRs [8.0, 14.0] 11.0268979539\n",
        "i [1.4835298641951802, 1.6580627893946132] 1.54139662472\n",
        "t0 [2456917.87861, 2456919.87861] 2456918.87861\n",
        "q1 [0, 1.0] 0.0105629345189\n",
        "q2 [0, 1.0] 0.226800813916\n",
        "RpRs [0.0, 0.3] 0.138329706108\n",
        "RpRs [0.0, 0.3] 0.135467975314\n",
        "RpRs [0.0, 0.3] 0.134611811029\n",
        "RpRs [0.0, 0.3] 0.13369767408\n",
        "RpRs [0.0, 0.3] 0.137159810775\n",
        "RpRs [0.0, 0.3] 0.143410789658\n",
        "RpRs [0.0, 0.3] 0.137516411741\n",
        "RpRs [0.0, 0.3] 0.146438458644\n",
        "F0 [0.1, 10] 0.7843181078\n",
        "F0 [0.1, 10] 0.776850560654\n",
        "F0 [0.1, 10] 0.781429308355\n",
        "F0 [0.1, 10] 0.778125158315\n",
        "F0 [0.1, 10] 0.783317459966\n",
        "F0 [0.1, 10] 0.800466798783\n",
        "F0 [0.1, 10] 0.821986372245\n",
        "F0 [0.1, 10] 0.819627769386\n",
        "am [1.0, 1000.0] 500.0\n",
        "am [1.0, 1000.0] 500.0\n",
        "am [1.0, 1000.0] 500.0\n",
        "am [1.0, 1000.0] 500.0\n",
        "am [1.0, 1000.0] 500.0\n",
        "am [1.0, 1000.0] 500.0\n",
        "am [1.0, 1000.0] 500.0\n",
        "am [1.0, 1000.0] 500.0\n"
       ]
      }
     ],
     "prompt_number": 45
    },
    {
     "cell_type": "code",
     "collapsed": false,
     "input": [
      "def lnprior(theta, paramlimits=paramlimits):\n",
      "    parameters = theta\n",
      "    # If parameter is locked, limits are set to [0,0]. If parameter is not locked,\n",
      "    # check that all values for that parameter are within the set limits. If they are,\n",
      "    # return 0.0, else return -np.inf\n",
      "    for i, limits in enumerate(paramlimits):\n",
      "        print labels[i], limits[0], '<', parameters[i],'and',parameters[i],'<',limits[1]\n",
      "        if not ((limits[0] < parameters[i]) and (parameters[i] < limits[1])):\n",
      "            return -np.inf\n",
      "    return 0.0\n",
      "initP[5+Nbins+0] = 10000\n",
      "print initP\n",
      "print lnprior(initP)"
     ],
     "language": "python",
     "metadata": {},
     "outputs": [
      {
       "output_type": "stream",
       "stream": "stdout",
       "text": [
        "[  1.10268980e+01   1.54139662e+00   2.45691888e+06   1.05629345e-02\n",
        "   2.26800814e-01   1.38329706e-01   1.35467975e-01   1.34611811e-01\n",
        "   1.33697674e-01   1.37159811e-01   1.43410790e-01   1.37516412e-01\n",
        "   1.46438459e-01   1.00000000e+04   7.76850561e-01   7.81429308e-01\n",
        "   7.78125158e-01   7.83317460e-01   8.00466799e-01   8.21986372e-01\n",
        "   8.19627769e-01   5.00000000e+02   5.00000000e+02   5.00000000e+02\n",
        "   5.00000000e+02   5.00000000e+02   5.00000000e+02   5.00000000e+02\n",
        "   5.00000000e+02]\n",
        "aRs 8.0 < 11.0268979539 and 11.0268979539 < 14.0\n",
        "i 1.4835298642 < 1.54139662472 and 1.54139662472 < 1.65806278939\n",
        "t0 2456917.87861 < 2456918.87861 and 2456918.87861 < 2456919.87861\n",
        "q1 0 < 0.0105629345189 and 0.0105629345189 < 1.0\n",
        "q2 0 < 0.226800813916 and 0.226800813916 < 1.0\n",
        "RpRs 0.0 < 0.138329706108 and 0.138329706108 < 0.3\n",
        "RpRs 0.0 < 0.135467975314 and 0.135467975314 < 0.3\n",
        "RpRs 0.0 < 0.134611811029 and 0.134611811029 < 0.3\n",
        "RpRs 0.0 < 0.13369767408 and 0.13369767408 < 0.3\n",
        "RpRs 0.0 < 0.137159810775 and 0.137159810775 < 0.3\n",
        "RpRs 0.0 < 0.143410789658 and 0.143410789658 < 0.3\n",
        "RpRs 0.0 < 0.137516411741 and 0.137516411741 < 0.3\n",
        "RpRs 0.0 < 0.146438458644 and 0.146438458644 < 0.3\n",
        "F0 0.1 < 10000.0 and 10000.0 < 10\n",
        "-inf\n"
       ]
      }
     ],
     "prompt_number": 51
    },
    {
     "cell_type": "code",
     "collapsed": false,
     "input": [
      "np.log(500)"
     ],
     "language": "python",
     "metadata": {},
     "outputs": [
      {
       "metadata": {},
       "output_type": "pyout",
       "prompt_number": 55,
       "text": [
        "6.2146080984221914"
       ]
      }
     ],
     "prompt_number": 55
    },
    {
     "cell_type": "code",
     "collapsed": false,
     "input": [],
     "language": "python",
     "metadata": {},
     "outputs": []
    }
   ],
   "metadata": {}
  }
 ]
}