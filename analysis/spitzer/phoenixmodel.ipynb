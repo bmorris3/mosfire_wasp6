{
 "metadata": {
  "name": "",
  "signature": "sha256:6f658d2cc71e1619f7791e7a0d213307a59a15f2c09aed7f0300098a639891f6"
 },
 "nbformat": 3,
 "nbformat_minor": 0,
 "worksheets": [
  {
   "cells": [
    {
     "cell_type": "markdown",
     "metadata": {},
     "source": [
      "# PHOENIX Stellar Atmosphere Models\n",
      "\n",
      "Retrieve models via ftp [here](http://phoenix.astro.physik.uni-goettingen.de/)."
     ]
    },
    {
     "cell_type": "code",
     "collapsed": false,
     "input": [
      "%matplotlib inline\n",
      "import pyfits\n",
      "import numpy as np\n",
      "import matplotlib\n",
      "matplotlib.rcParams['font.size'] = 15\n",
      "from matplotlib import pyplot as plt\n",
      "from glob import glob\n",
      "\n",
      "file_spectrum = glob(\"lte*.fits\")[0]\n",
      "file_wave = glob(\"WAVE*.fits\")[0]\n",
      "spectrum = pyfits.getdata(file_spectrum) #pyfits.open(f)\n",
      "wave = pyfits.getdata(file_wave)*1e-4 #pyfits.open(f)"
     ],
     "language": "python",
     "metadata": {},
     "outputs": [],
     "prompt_number": 28
    },
    {
     "cell_type": "markdown",
     "metadata": {},
     "source": [
      "## Download PHOENIX models via FTP"
     ]
    },
    {
     "cell_type": "code",
     "collapsed": false,
     "input": [
      "# Models with [Fe/H] = -0.2, [alpha/H] = -0.2\n",
      "ftproot = 'ftp://phoenix.astro.physik.uni-goettingen.de/HiResFITS/PHOENIX-ACES-AGSS-COND-2011/Z-0.0.Alpha=-0.20/'\n",
      "\n",
      "downloadmodels = False\n",
      "if downloadmodels:\n",
      "    # Download models for range of effective temperatures\n",
      "    Teffs = np.arange(4800, 5800, 100)\n",
      "    for Teff in Teffs:\n",
      "        # Get models with log g = 4.5, alpha=-0.2, Z=0\n",
      "        filename = 'lte{0:05d}-4.50-0.0.Alpha=-0.20.PHOENIX-ACES-AGSS-COND-2011-HiRes.fits'.format(Teff)\n",
      "\n",
      "        from urllib import urlopen\n",
      "        with open('phoenix/{0:05d}.fits'.format(Teff), 'wb') as f:\n",
      "            f.write(urlopen(ftproot+filename).read())"
     ],
     "language": "python",
     "metadata": {},
     "outputs": [],
     "prompt_number": 50
    },
    {
     "cell_type": "markdown",
     "metadata": {},
     "source": [
      "# Accounting for Nikolov/Jordan difference with spots\n",
      "\n",
      "### Following Pont et al. (2013)'s notation\n",
      "\n",
      "Flux decreases during transit by $F_1/F_0 \\approx (R_p/R_s)^2$. While the geometry is fixed, the flux of the star in the region occulted or not occulted by the star may be variable, so we can rewrite this as: \n",
      "\n",
      "$$ \\left. \\frac{F_1}{F_0} \\right|_\\lambda \\approx \\left. \\frac{\\alpha R_p^2}{\\alpha^\\prime R_s^2}  \\right|_\\lambda$$\n",
      "\n",
      "where $\\alpha$ is the mean surface brightness of the part of the star occulted by the planet and $\\alpha^\\prime$ is the mean surface brightness of the parts of the star not occulted during transit compared to non-spotted equivalent parts of the star. \n",
      "\n",
      "Assuming no spots are occulted by the planet $\\alpha = 1$. The question is then what is $\\alpha^\\prime$: how much dimmer is the star at a given wavelength, at a given time? So let's parameterize this as $\\alpha^\\prime = 1 - f(t, \\lambda)$ where $f(t, \\lambda)$ is the fractional change in flux at a given wavelength at a particular time. Then\n",
      "\n",
      "$$ \\left. \\frac{F_1\\alpha^\\prime}{F_0} \\right|_\\lambda \\approx \\left. \\frac{R_p^2}{R_s^2}  \\right|_\\lambda$$\n",
      "\n",
      "and the fractional change in the surface flux due to the star spots between observations at different times will be\n",
      "\n",
      "$$ \\left( \\frac{F_1\\alpha_{t_2}^\\prime}{F_0}  \\right)_{\\lambda, t_2}  - \\left( \\frac{F_1\\alpha_{t_1}^\\prime}{F_0}  \\right)_{\\lambda, t_2}   \\approx \\left( \\frac{R_p}{R_s}  \\right)_{\\lambda, t_2}^2 - \\left( \\frac{R_p}{R_s}  \\right)_{\\lambda, t_1}^2$$\n",
      "\n",
      "$$  \\Delta \\left( \\frac{R_p}{R_s} \\right)^2 = \\Delta \\alpha^\\prime = \\Delta (- f(t, \\lambda)) = f(t_1,\\lambda) - f(t_2,\\lambda) $$\n",
      "\n",
      "This flux difference $\\Delta (- f(t, \\lambda))$ corresponds to some change in temperature $T$ of the stellar surface which can be described using stellar models.\n"
     ]
    },
    {
     "cell_type": "code",
     "collapsed": false,
     "input": [
      "deltaRpRs = 0.007\n",
      "deltaflux = deltaRpRs**2\n",
      "print deltaflux\n"
     ],
     "language": "python",
     "metadata": {},
     "outputs": [
      {
       "output_type": "stream",
       "stream": "stdout",
       "text": [
        "4.9e-05\n"
       ]
      }
     ],
     "prompt_number": 51
    },
    {
     "cell_type": "code",
     "collapsed": false,
     "input": [],
     "language": "python",
     "metadata": {},
     "outputs": [],
     "prompt_number": 50
    },
    {
     "cell_type": "code",
     "collapsed": false,
     "input": [],
     "language": "python",
     "metadata": {},
     "outputs": [],
     "prompt_number": 50
    },
    {
     "cell_type": "code",
     "collapsed": false,
     "input": [],
     "language": "python",
     "metadata": {},
     "outputs": [],
     "prompt_number": 50
    },
    {
     "cell_type": "code",
     "collapsed": false,
     "input": [],
     "language": "python",
     "metadata": {},
     "outputs": []
    },
    {
     "cell_type": "markdown",
     "metadata": {},
     "source": [
      "## For scaling the same blackbody: "
     ]
    },
    {
     "cell_type": "markdown",
     "metadata": {},
     "source": [
      "Blackbodies have $F = \\sigma T^4$, where $F = \\int_0^\\infty I_\\nu d\\nu$. So \n",
      "\n",
      "$$ \\frac{F_1}{T_1^4} = \\frac{F_2}{T_2^4} = \\sigma$$\n",
      "or\n",
      "$$ F_2 = F_1 \\left( \\frac{T_2}{T_1} \\right)^4  $$\n",
      "\n",
      "and therefore the flux ratio of the effective temperature of the model and the desired spectrum $T_{model}^4$ "
     ]
    },
    {
     "cell_type": "code",
     "collapsed": false,
     "input": [
      "def scalespectrum(desired_Teff):\n",
      "    '''\n",
      "    For some desired effective temperature of the star,\n",
      "    scale the spectrum of the star by a constant according\n",
      "    to the Stefan-Boltzmann law.\n",
      "    '''\n",
      "    #desired_Teff = 5375.\n",
      "    model_Teff = 5400.\n",
      "    Teffratio = (desired_Teff/model_Teff)**4\n",
      "    return spectrum*Teffratio\n",
      "\n",
      "plt.plot(wave, scalespectrum(6000))\n",
      "plt.plot(wave, scalespectrum(4000))\n",
      "plt.show()\n"
     ],
     "language": "python",
     "metadata": {},
     "outputs": [
      {
       "metadata": {},
       "output_type": "display_data",
       "png": "[encoded data removed]",
       "text": [
        "<matplotlib.figure.Figure at 0x7f3209c12290>"
       ]
      }
     ],
     "prompt_number": 27
    }
   ],
   "metadata": {}
  }
 ]
}