{
 "metadata": {
  "name": "",
  "signature": "sha256:4d526bed1651962f25605ce87d34ed2084933520504d65f64d7a4282d966e214"
 },
 "nbformat": 3,
 "nbformat_minor": 0,
 "worksheets": [
  {
   "cells": [
    {
     "cell_type": "code",
     "collapsed": false,
     "input": [
      "#%pylab inline\n",
      "import pyfits\n",
      "import numpy as np\n",
      "from matplotlib import pyplot as plt\n",
      "import sys\n",
      "sys.path.append('../')\n",
      "import photPack2\n",
      "from astropy.time import Time\n",
      "\n",
      "# wasp6paths_nodsub_odd = [\"%s%04d%s\" % ('/local/tmp/mosfire/2014sep18_analysis/m140918_', \\\n",
      "#                          i,'n_nobadpxl.fits') for i in range(374,629,2)]\n",
      "# wasp6paths_sum_odd = [\"%s%04d%s\" % ('/local/tmp/mosfire/2014sep18_analysis/m140918_',\\\n",
      "#                       i,'sum_nobadpxl.fits') for i in range(374,629,2)]\n",
      "\n",
      "wasp6paths_nodsub_odd = [\"%s%04d%s\" % ('/local/tmp/mosfire/2014sep18_analysis/m140918_', \\\n",
      "                         i,'n_nobadpxl.fits') for i in range(365,629,1)]\n",
      "wasp6paths_sum_odd = [\"%s%04d%s\" % ('/local/tmp/mosfire/2014sep18_analysis/m140918_',\\\n",
      "                      i,'sum_nobadpxl.fits') for i in range(365,629,1)]\n",
      "testimgpath = wasp6paths_nodsub_odd[8]\n",
      "testimg = pyfits.getdata(testimgpath)\n",
      "arcpath = '/local/tmp/mosfire/2014sep18_analysis/m140918_0005shifted.fits'\n",
      "arcimage = pyfits.getdata(arcpath)\n",
      "wavelengthsoln = np.load('wavelengthsoln.npy')\n",
      "\n",
      "times = np.zeros(len(wasp6paths_nodsub_odd))\n",
      "fluxes = np.zeros((len(wasp6paths_nodsub_odd), 2))\n",
      "centroids = np.zeros((len(wasp6paths_nodsub_odd), 2))\n",
      "airmass = np.zeros(len(wasp6paths_nodsub_odd))\n",
      "\n",
      "targetbounds = [385, 445]\n",
      "compbounds = [1390, 1460]\n",
      "roughnodcentroids = [500, 1500] # Rough indices between A and B nods\n",
      "apertureradius = 18#20#8\n",
      "bg_o = 5      # Background box outer limit\n",
      "bg_i = 1.5#2.5    # Background box inner limit\n",
      "\n",
      "### Preparing channelshift() and bad pixel detections from badpixelsearch.py\n",
      "rowlimits = [5, 2030]\n",
      "collimits = [5, 2044]\n",
      "bestshiftspath = '/local/tmp/mosfire/2014sep18_analysis/bestxshifts.npy'\n",
      "bestxshifts = np.load(bestshiftspath)\n",
      "oversamplefactor = 1\n",
      "def channelshift(image):\n",
      "    ydim, xdim = image.shape\n",
      "    outputpaddingwidth = np.ceil(np.max(bestxshifts)/oversamplefactor)\n",
      "    outputpadding = np.zeros((ydim, outputpaddingwidth))\n",
      "    paddedimage = np.hstack([outputpadding, image, outputpadding])\n",
      "\n",
      "    for row in range(1, ydim):\n",
      "        paddedimage[row] = np.roll(paddedimage[row], int(bestxshifts[row]/oversamplefactor))\n",
      "    return paddedimage\n",
      "\n",
      "rowlimits = [5, 2030]\n",
      "collimits = [5, 2044]\n",
      "shapeimg = pyfits.getdata('/local/tmp/mosfire/2014sep18/m140918_0005.fits')[rowlimits[0]:rowlimits[1],collimits[0]:collimits[1]]\n",
      "\n",
      "def channelshift_coords(x,y,dims=np.shape(shapeimg)):\n",
      "    image = np.zeros(dims)\n",
      "    image[y,x] = 1\n",
      "    ydim, xdim = image.shape\n",
      "    outputpaddingwidth = np.ceil(np.max(bestxshifts)/oversamplefactor)\n",
      "    outputpadding = np.zeros((ydim, outputpaddingwidth))\n",
      "    paddedimage = np.hstack([outputpadding, image, outputpadding])\n",
      "\n",
      "    for row in range(1, ydim):\n",
      "        paddedimage[row] = np.roll(paddedimage[row], int(bestxshifts[row]/oversamplefactor))\n",
      "    XX, YY = np.meshgrid(range(ydim),range(xdim))\n",
      "    #coords = (XX[paddedimage == 1][0], YY[paddedimage == 1][0])\n",
      "    coords = (np.arange(ydim)[np.sum(paddedimage,axis=0) == 1][0], np.arange(xdim)[np.sum(paddedimage,axis=1) == 1][0])\n",
      "    return coords\n",
      "\n",
      "badpxls_x = []\n",
      "badpxls_y = []\n",
      "badpxls_exp = []\n",
      "for basepath in ['badpxlseven/','badpxlsodd/']:\n",
      "    badpxls_x.append(np.array(map(float, open(basepath+'variablepxls_x.csv').read().splitlines())))\n",
      "    badpxls_y.append(np.array(map(float, open(basepath+'variablepxls_y.csv').read().splitlines())))\n",
      "    badpxls_exp.append(np.array(map(float, open(basepath+'variablepxls_exp.csv').read().splitlines())))\n",
      "# for basepath in ['badpxlsodd/','badpxlseven/']:\n",
      "#     badpxls_x = np.array(map(float, open(basepath+'variablepxls_x.csv').read().splitlines()))\n",
      "#     badpxls_y = np.array(map(float, open(basepath+'variablepxls_y.csv').read().splitlines()))\n",
      "#     badpxls_exp = np.array(map(float, open(basepath+'variablepxls_exp.csv').read().splitlines()))\n",
      "    \n",
      "badpxls_x = np.concatenate(badpxls_x)\n",
      "badpxls_y = np.concatenate(badpxls_y)\n",
      "badpxls_exp = np.concatenate(badpxls_exp)\n",
      "meaningfulinds = badpxls_exp != 1e10\n",
      "badpxls_x = badpxls_x[meaningfulinds]\n",
      "badpxls_y = badpxls_y[meaningfulinds]\n",
      "badpxls_exp = badpxls_exp[meaningfulinds]\n",
      "\n",
      "#################################################################################\n",
      "\n",
      "## Galaxy image\n",
      "galaxyimage = np.load('/astro/users/bmmorris/git/research/keck/2014september/analysis/rightnod/galaxy/wholeframegalaxyimg.npy')\n",
      "galaxyimagesum = np.load('/astro/users/bmmorris/git/research/keck/2014september/analysis/rightnod/galaxy/wholeframegalaxysum.npy')\n",
      "\n",
      "# Expected transit time:\n",
      "t0_expected = 2456918.887816  # JD\n",
      "t0_roughfit = 2456918.8793039066\n",
      "t14duration_expected = 0.1086 # days\n",
      "\n",
      "Nbins = 10\n",
      "times = np.zeros(len(wasp6paths_nodsub_odd))\n",
      "apertureradii = [28]#np.arange(20,40)#[39]#np.arange(30,45)#np.arange(10, 70, 5)#np.arange(14, 25, 2)\n",
      "chisquared_allbins = np.zeros(len(apertureradii),dtype=float)\n",
      "# Fluxes/errors dimensions: \n",
      "# N time series, N stars, N spectral bins, N apertures\n",
      "fluxes = np.zeros((len(wasp6paths_nodsub_odd), 2, Nbins, len(apertureradii)))\n",
      "errors = np.zeros_like(fluxes)\n",
      "centroids = np.zeros((len(wasp6paths_nodsub_odd), 2))\n",
      "airmass = np.zeros(len(wasp6paths_nodsub_odd))\n",
      "wavelengthbincenters = np.zeros(Nbins)\n",
      "exposuredurs = np.zeros(len(wasp6paths_nodsub_odd))\n",
      "#paddingbounds = [110, 2130]\n",
      "paddingbounds = [200, 2130]\n",
      "spectralbinbounds = np.linspace(paddingbounds[0], paddingbounds[1], Nbins+1, dtype=int)\n",
      "\n",
      "targetbounds = [385, 445]\n",
      "compbounds = [1390, 1460]\n",
      "roughnodcentroids = [500, 1500] # Rough indices between A and B nods\n",
      "#apertureradius = 18#20#8\n",
      "bg_o = 5      # Background box outer limit\n",
      "bg_i = 1.5#2.5    # Background box inner limit\n",
      "badpixelclip = 6.0 #sigma\n",
      "badpxlincore = 0\n",
      "#for i, imagepath in enumerate(wasp6paths_nodsub_odd[:1]):\n",
      "for i, imagepath, imagesumpath in zip(range(len(wasp6paths_nodsub_odd)), wasp6paths_nodsub_odd, wasp6paths_sum_odd):\n",
      "    imagenameindex = int(imagepath.split('/')[-1].split('.')[0].split('_')[1].replace('n',''))\n",
      "    print i,'of',len(wasp6paths_nodsub_odd)\n",
      "    image = pyfits.getdata(imagepath)#[:,paddingbounds[0]:paddingbounds[1]]\n",
      "    header = pyfits.getheader(imagepath)\n",
      "    imagesum = pyfits.getdata(imagesumpath)[:,paddingbounds[0]:paddingbounds[1]]\n",
      "    times[i] = Time('2014-09-18 '+header['UTC'], scale='utc', format='iso').jd\n",
      "    airmass[i] = header['AIRMASS']\n",
      "    exposuredurs[i] = header['TRUITIME']\n",
      "    \n",
      "    ## Check for bad pixels in this exposure\n",
      "    if imagenameindex in badpxls_exp:\n",
      "        correction_inds = badpxls_exp == imagenameindex\n",
      " \n",
      "        # Replace bad pixels with the median of the nearest 10 pixels in the channel\n",
      "        # if the median turns out to be within 2stddevs of the median of \n",
      "        # the entire image: this will make sure not to correct bad pixels near the\n",
      "        # core of the PSF. \n",
      "        oldimage = np.copy(image)\n",
      "        allmedian = np.median(image)\n",
      "        allstd = np.std(image)\n",
      "        for y_badpxl,x_badpxl in zip(badpxls_x[correction_inds], badpxls_y[correction_inds]):\n",
      "            window = 10\n",
      "            plotbadpxl = False\n",
      "            windowmedian = np.median(image[x_badpxl-window:x_badpxl+window, y_badpxl])\n",
      "\n",
      "            # windowmedian will return nan for pixels near the edges of images\n",
      "            #print windowmedian, windowmedian, 0.5*allstd, imagepath\n",
      "            if np.abs(windowmedian - windowmedian) < 0.5*allstd and not np.isnan(windowmedian):\n",
      "                #oldimage = np.copy(image)\n",
      "                image[x_badpxl,y_badpxl] = windowmedian\n",
      "                plotbadpxl = False\n",
      "            elif np.isnan(windowmedian):\n",
      "                plotbadpxl = False\n",
      "            else: \n",
      "                badpxlincore += 1\n",
      "                plotbadpxl = True\n",
      "                \n",
      "            if plotbadpxl:\n",
      "                imgm = np.median(oldimage[x_badpxl-window:x_badpxl+window, y_badpxl-window:y_badpxl+window])\n",
      "                imgstd = np.std(oldimage[x_badpxl-window:x_badpxl+window, y_badpxl-window:y_badpxl+window])\n",
      "                imgN = 0.5\n",
      "                fig, ax = plt.subplots(1,2,figsize=(14,8), sharex=True, sharey=True)\n",
      "                ax[0].imshow(oldimage, interpolation='nearest', origin='lower', \\\n",
      "                             vmin=imgm-imgN*imgstd, vmax=imgm+imgN*imgstd)            #ys = np.arange(y_badpxl-window,y_badpxl+window)\n",
      "                ax[1].imshow(image, interpolation='nearest', origin='lower', \\\n",
      "                             vmin=imgm-imgN*imgstd, vmax=imgm+imgN*imgstd)\n",
      "                for axes in ax:\n",
      "                    axes.axvline(y_badpxl,lw=2,color='white')\n",
      "                    axes.axhline(x_badpxl,lw=2,color='white')\n",
      "                    axes.set_ylim([x_badpxl-window,x_badpxl+window])\n",
      "                    axes.set_xlim([y_badpxl-window,y_badpxl+window])\n",
      "                plt.show()\n",
      "    \n",
      "    # crop image:\n",
      "    image = image[:,paddingbounds[0]:paddingbounds[1]]\n",
      "    \n",
      "    ## Add in galaxy correction frame\n",
      "    image += galaxyimage[:,paddingbounds[0]:paddingbounds[1]]\n",
      "    image += galaxyimagesum[:,paddingbounds[0]:paddingbounds[1]]\n",
      "    for j in range(2):\n",
      "        #target star is j=1\n",
      "        leftcentroid, rightcentroid = photPack2.trackStar(image, [roughnodcentroids[j]-250,\\\n",
      "                                                           roughnodcentroids[j]+250], 0,\\\n",
      "                                                           plots=False, returnCentroidsOnly=True)\n",
      "#         if j == 1:\n",
      "#             axsum = np.sum(image, axis=1)\n",
      "#             axrange = np.arange(len(axsum))\n",
      "#             galaxycenter = rightcentroid+193\n",
      "#             galaxywidth = 40\n",
      "#             bgwidth = 15\n",
      "#             galaxyonly = np.copy(axsum)\n",
      "#             nongalaxyposition = (axrange < galaxycenter - galaxywidth) + (axrange > galaxycenter + galaxywidth)\n",
      "#             galaxyposition = np.invert(nongalaxyposition)\n",
      "#             galaxyonly[nongalaxyposition] = 0.0\n",
      "#             bg = np.mean(axsum[(axrange > galaxycenter - galaxywidth - bgwidth)*\\\n",
      "#                                (axrange < galaxycenter - galaxywidth) +\\\n",
      "#                                (axrange > galaxycenter + galaxywidth)*\\\n",
      "#                                (axrange < galaxycenter + galaxywidth + bgwidth)])\n",
      "#             galaxyonly[galaxyposition] -= bg\n",
      "#             galaxyonly = np.roll(galaxyonly, int(leftcentroid -rightcentroid))\n",
      "            \n",
      "            \n",
      "#             plt.figure()\n",
      "#             plt.plot(axsum,'b')\n",
      "#             plt.plot(galaxyonly, 'g')\n",
      "#             # Draw lines\n",
      "#             plt.axvline(leftcentroid, color='k', lw=2)\n",
      "#             plt.axvline(rightcentroid, color='k', lw=2)\n",
      "#             plt.axvline(galaxycenter, color='k', lw=2)\n",
      "#             plt.axvline(galaxycenter+galaxywidth, color='r', lw=2)\n",
      "#             plt.axvline(galaxycenter-galaxywidth, color='r', lw=2)\n",
      "#             plt.axvline(galaxycenter-galaxywidth-bgwidth, color='r', lw=1, ls=':')\n",
      "#             plt.axvline(galaxycenter+galaxywidth+bgwidth, color='r', lw=1, ls=':')\n",
      "#             plt.ylim([-1*np.std(axsum), 1*np.std(axsum)])\n",
      "#             plt.show()\n",
      "        \n",
      "        if i % 2 == 0:\n",
      "            centroids[i, j] = rightcentroid#leftcentroid\n",
      "        else: \n",
      "            centroids[i, j] = leftcentroid\n",
      "            \n",
      "        for k in range(Nbins):\n",
      "            binimage = image[:, spectralbinbounds[k]:spectralbinbounds[k+1]]\n",
      "            binimagesum = imagesum[:, spectralbinbounds[k]:spectralbinbounds[k+1]]\n",
      "            wavelengthbincenters[k] = np.mean([wavelengthsoln[spectralbinbounds[k]], wavelengthsoln[spectralbinbounds[k+1]]])\n",
      "            #print leftcentroid, rightcentroid\n",
      "            midnod = np.mean([leftcentroid, rightcentroid])\n",
      "            for l, apertureradius in enumerate(apertureradii):\n",
      "                background_upper = binimage[centroids[i, j]+bg_i*apertureradius:centroids[i, j]+bg_o*apertureradius,:]\n",
      "                background_lower = binimage[centroids[i, j]-bg_o*apertureradius:centroids[i, j]-bg_i*apertureradius,:]\n",
      "                background = np.concatenate([background_upper, background_lower])#np.hstack([background_upper, background_lower])\n",
      "                meanbackground = np.mean(background)\n",
      "                rowprofile = np.sum(binimage[centroids[i, j]-10*apertureradius:centroids[i, j]+10*apertureradius,:],axis=1)\n",
      "                withinaperture = binimage[centroids[i, j]-apertureradius:centroids[i, j]+apertureradius,:]\n",
      "                withinaperture_sum = binimagesum[centroids[i, j]-apertureradius:centroids[i, j]+apertureradius,:]\n",
      "                \n",
      "                withinaperture_corrected = np.copy(withinaperture)\n",
      "                medianwindow = 5\n",
      "                corr_x = []\n",
      "                corr_y = []\n",
      "                lastlength = 0\n",
      "                withinaperture = withinaperture_corrected\n",
      "#                 if False:#j == 1:# and (i == 0 or i == 10):\n",
      "#                     plt.plot(np.arange(len(rowprofile))+centroids[i, j]-10*apertureradius, rowprofile)\n",
      "#                     plt.axhline(meanbackground*withinaperture.shape[1],                            color='k',ls='--')\n",
      "#                     for v in [leftcentroid+bg_i*apertureradius, leftcentroid+bg_o*apertureradius, \\\n",
      "#                          leftcentroid-bg_i*apertureradius, leftcentroid-bg_o*apertureradius]:\n",
      "#                         plt.axvline(v, ls=':', color='g')\n",
      "#                     for v in [leftcentroid+apertureradius, leftcentroid-apertureradius]:\n",
      "#                         plt.axvline(v, ls=':', color='r')\n",
      "#                     #plt.show()\n",
      "                fluxes[i, j, k, l] = (np.sum(withinaperture) - meanbackground*withinaperture.size)/exposuredurs[i]\n",
      "                errors[i, j, k, l] = (np.sqrt(np.sum(withinaperture_sum) + meanbackground*withinaperture.size))/exposuredurs[i]\n",
      "    #plt.plot(np.sum(image[leftcentroid-apertureradius:leftcentroid+apertureradius,:],axis=1))\n",
      "plt.show()\n",
      "\n",
      "\n",
      "#print 'Out of transit stddev = %f' % (np.std(lightcurve[oot,0]))\n",
      "def chi2(v1, v2, err, Nfreeparams):\n",
      "    return np.sum( ((v1-v2)/err)**2 )/(len(v1) - Nfreeparams)"
     ],
     "language": "python",
     "metadata": {},
     "outputs": [
      {
       "output_type": "stream",
       "stream": "stdout",
       "text": [
        "0 of 264\n",
        "1"
       ]
      },
      {
       "output_type": "stream",
       "stream": "stdout",
       "text": [
        " of 264\n",
        "2"
       ]
      },
      {
       "output_type": "stream",
       "stream": "stdout",
       "text": [
        " of 264\n",
        "3"
       ]
      },
      {
       "output_type": "stream",
       "stream": "stdout",
       "text": [
        " of 264\n",
        "4"
       ]
      },
      {
       "output_type": "stream",
       "stream": "stdout",
       "text": [
        " of 264\n",
        "5"
       ]
      },
      {
       "output_type": "stream",
       "stream": "stdout",
       "text": [
        " of 264\n",
        "6"
       ]
      },
      {
       "output_type": "stream",
       "stream": "stdout",
       "text": [
        " of 264\n",
        "7"
       ]
      },
      {
       "output_type": "stream",
       "stream": "stdout",
       "text": [
        " of 264\n",
        "8"
       ]
      },
      {
       "output_type": "stream",
       "stream": "stdout",
       "text": [
        " of 264\n",
        "9"
       ]
      },
      {
       "output_type": "stream",
       "stream": "stdout",
       "text": [
        " of 264\n",
        "10"
       ]
      },
      {
       "output_type": "stream",
       "stream": "stdout",
       "text": [
        " of 264\n",
        "11"
       ]
      },
      {
       "output_type": "stream",
       "stream": "stdout",
       "text": [
        " of 264\n",
        "12"
       ]
      },
      {
       "output_type": "stream",
       "stream": "stdout",
       "text": [
        " of 264\n",
        "13"
       ]
      },
      {
       "output_type": "stream",
       "stream": "stdout",
       "text": [
        " of 264\n",
        "14"
       ]
      },
      {
       "output_type": "stream",
       "stream": "stdout",
       "text": [
        " of 264\n",
        "15"
       ]
      },
      {
       "output_type": "stream",
       "stream": "stdout",
       "text": [
        " of 264\n",
        "16"
       ]
      },
      {
       "output_type": "stream",
       "stream": "stdout",
       "text": [
        " of 264\n",
        "17"
       ]
      },
      {
       "output_type": "stream",
       "stream": "stdout",
       "text": [
        " of 264\n",
        "18"
       ]
      },
      {
       "output_type": "stream",
       "stream": "stdout",
       "text": [
        " of 264\n",
        "19"
       ]
      },
      {
       "output_type": "stream",
       "stream": "stdout",
       "text": [
        " of 264\n",
        "20"
       ]
      },
      {
       "output_type": "stream",
       "stream": "stdout",
       "text": [
        " of 264\n",
        "21"
       ]
      },
      {
       "output_type": "stream",
       "stream": "stdout",
       "text": [
        " of 264\n",
        "22"
       ]
      },
      {
       "output_type": "stream",
       "stream": "stdout",
       "text": [
        " of 264\n",
        "23"
       ]
      },
      {
       "output_type": "stream",
       "stream": "stdout",
       "text": [
        " of 264\n",
        "24"
       ]
      },
      {
       "output_type": "stream",
       "stream": "stdout",
       "text": [
        " of 264\n",
        "25"
       ]
      },
      {
       "output_type": "stream",
       "stream": "stdout",
       "text": [
        " of 264\n",
        "26"
       ]
      },
      {
       "output_type": "stream",
       "stream": "stdout",
       "text": [
        " of 264\n",
        "27"
       ]
      },
      {
       "output_type": "stream",
       "stream": "stdout",
       "text": [
        " of 264\n",
        "28"
       ]
      },
      {
       "output_type": "stream",
       "stream": "stdout",
       "text": [
        " of 264\n",
        "29"
       ]
      },
      {
       "output_type": "stream",
       "stream": "stdout",
       "text": [
        " of 264\n",
        "30"
       ]
      },
      {
       "output_type": "stream",
       "stream": "stdout",
       "text": [
        " of 264\n",
        "31"
       ]
      },
      {
       "output_type": "stream",
       "stream": "stdout",
       "text": [
        " of 264\n",
        "32"
       ]
      },
      {
       "output_type": "stream",
       "stream": "stdout",
       "text": [
        " of 264\n",
        "33"
       ]
      },
      {
       "output_type": "stream",
       "stream": "stdout",
       "text": [
        " of 264\n",
        "34"
       ]
      },
      {
       "output_type": "stream",
       "stream": "stdout",
       "text": [
        " of 264\n",
        "35"
       ]
      },
      {
       "output_type": "stream",
       "stream": "stdout",
       "text": [
        " of 264\n",
        "36"
       ]
      },
      {
       "output_type": "stream",
       "stream": "stdout",
       "text": [
        " of 264\n",
        "37"
       ]
      },
      {
       "output_type": "stream",
       "stream": "stdout",
       "text": [
        " of 264\n",
        "38"
       ]
      },
      {
       "output_type": "stream",
       "stream": "stdout",
       "text": [
        " of 264\n",
        "39"
       ]
      },
      {
       "output_type": "stream",
       "stream": "stdout",
       "text": [
        " of 264\n",
        "40"
       ]
      },
      {
       "output_type": "stream",
       "stream": "stdout",
       "text": [
        " of 264\n",
        "41"
       ]
      },
      {
       "output_type": "stream",
       "stream": "stdout",
       "text": [
        " of 264\n",
        "42"
       ]
      },
      {
       "output_type": "stream",
       "stream": "stdout",
       "text": [
        " of 264\n",
        "43"
       ]
      },
      {
       "output_type": "stream",
       "stream": "stdout",
       "text": [
        " of 264\n",
        "44"
       ]
      },
      {
       "output_type": "stream",
       "stream": "stdout",
       "text": [
        " of 264\n",
        "45"
       ]
      },
      {
       "output_type": "stream",
       "stream": "stdout",
       "text": [
        " of 264\n",
        "46"
       ]
      },
      {
       "output_type": "stream",
       "stream": "stdout",
       "text": [
        " of 264\n",
        "47"
       ]
      },
      {
       "output_type": "stream",
       "stream": "stdout",
       "text": [
        " of 264\n",
        "48"
       ]
      },
      {
       "output_type": "stream",
       "stream": "stdout",
       "text": [
        " of 264\n",
        "49"
       ]
      },
      {
       "output_type": "stream",
       "stream": "stdout",
       "text": [
        " of 264\n",
        "50"
       ]
      },
      {
       "output_type": "stream",
       "stream": "stdout",
       "text": [
        " of 264\n",
        "51"
       ]
      },
      {
       "output_type": "stream",
       "stream": "stdout",
       "text": [
        " of 264\n",
        "52"
       ]
      },
      {
       "output_type": "stream",
       "stream": "stdout",
       "text": [
        " of 264\n",
        "53"
       ]
      },
      {
       "output_type": "stream",
       "stream": "stdout",
       "text": [
        " of 264\n",
        "54"
       ]
      },
      {
       "output_type": "stream",
       "stream": "stdout",
       "text": [
        " of 264\n",
        "55"
       ]
      },
      {
       "output_type": "stream",
       "stream": "stdout",
       "text": [
        " of 264\n",
        "56"
       ]
      },
      {
       "output_type": "stream",
       "stream": "stdout",
       "text": [
        " of 264\n",
        "57"
       ]
      },
      {
       "output_type": "stream",
       "stream": "stdout",
       "text": [
        " of 264\n",
        "58"
       ]
      },
      {
       "output_type": "stream",
       "stream": "stdout",
       "text": [
        " of 264\n",
        "59"
       ]
      },
      {
       "output_type": "stream",
       "stream": "stdout",
       "text": [
        " of 264\n",
        "60"
       ]
      },
      {
       "output_type": "stream",
       "stream": "stdout",
       "text": [
        " of 264\n",
        "61"
       ]
      },
      {
       "output_type": "stream",
       "stream": "stdout",
       "text": [
        " of 264\n",
        "62"
       ]
      },
      {
       "output_type": "stream",
       "stream": "stdout",
       "text": [
        " of 264\n",
        "63"
       ]
      },
      {
       "output_type": "stream",
       "stream": "stdout",
       "text": [
        " of 264\n",
        "64"
       ]
      },
      {
       "output_type": "stream",
       "stream": "stdout",
       "text": [
        " of 264\n",
        "65"
       ]
      },
      {
       "output_type": "stream",
       "stream": "stdout",
       "text": [
        " of 264\n",
        "66"
       ]
      },
      {
       "output_type": "stream",
       "stream": "stdout",
       "text": [
        " of 264\n",
        "67"
       ]
      },
      {
       "output_type": "stream",
       "stream": "stdout",
       "text": [
        " of 264\n",
        "68"
       ]
      },
      {
       "output_type": "stream",
       "stream": "stdout",
       "text": [
        " of 264\n",
        "69"
       ]
      },
      {
       "output_type": "stream",
       "stream": "stdout",
       "text": [
        " of 264\n",
        "70"
       ]
      },
      {
       "output_type": "stream",
       "stream": "stdout",
       "text": [
        " of 264\n",
        "71"
       ]
      },
      {
       "output_type": "stream",
       "stream": "stdout",
       "text": [
        " of 264\n",
        "72"
       ]
      },
      {
       "output_type": "stream",
       "stream": "stdout",
       "text": [
        " of 264\n",
        "73"
       ]
      },
      {
       "output_type": "stream",
       "stream": "stdout",
       "text": [
        " of 264\n",
        "74"
       ]
      },
      {
       "output_type": "stream",
       "stream": "stdout",
       "text": [
        " of 264\n",
        "75"
       ]
      },
      {
       "output_type": "stream",
       "stream": "stdout",
       "text": [
        " of 264\n",
        "76"
       ]
      },
      {
       "output_type": "stream",
       "stream": "stdout",
       "text": [
        " of 264\n",
        "77"
       ]
      },
      {
       "output_type": "stream",
       "stream": "stdout",
       "text": [
        " of 264\n",
        "78"
       ]
      },
      {
       "output_type": "stream",
       "stream": "stdout",
       "text": [
        " of 264\n",
        "79"
       ]
      },
      {
       "output_type": "stream",
       "stream": "stdout",
       "text": [
        " of 264\n",
        "80"
       ]
      },
      {
       "output_type": "stream",
       "stream": "stdout",
       "text": [
        " of 264\n",
        "81"
       ]
      },
      {
       "output_type": "stream",
       "stream": "stdout",
       "text": [
        " of 264\n",
        "82"
       ]
      },
      {
       "output_type": "stream",
       "stream": "stdout",
       "text": [
        " of 264\n",
        "83"
       ]
      },
      {
       "output_type": "stream",
       "stream": "stdout",
       "text": [
        " of 264\n",
        "84"
       ]
      },
      {
       "output_type": "stream",
       "stream": "stdout",
       "text": [
        " of 264\n",
        "85"
       ]
      },
      {
       "output_type": "stream",
       "stream": "stdout",
       "text": [
        " of 264\n",
        "86"
       ]
      },
      {
       "output_type": "stream",
       "stream": "stdout",
       "text": [
        " of 264\n",
        "87"
       ]
      },
      {
       "output_type": "stream",
       "stream": "stdout",
       "text": [
        " of 264\n",
        "88"
       ]
      },
      {
       "output_type": "stream",
       "stream": "stdout",
       "text": [
        " of 264\n",
        "89"
       ]
      },
      {
       "output_type": "stream",
       "stream": "stdout",
       "text": [
        " of 264\n",
        "90"
       ]
      },
      {
       "output_type": "stream",
       "stream": "stdout",
       "text": [
        " of 264\n",
        "91"
       ]
      },
      {
       "output_type": "stream",
       "stream": "stdout",
       "text": [
        " of 264\n",
        "92"
       ]
      },
      {
       "output_type": "stream",
       "stream": "stdout",
       "text": [
        " of 264\n",
        "93"
       ]
      },
      {
       "output_type": "stream",
       "stream": "stdout",
       "text": [
        " of 264\n",
        "94"
       ]
      },
      {
       "output_type": "stream",
       "stream": "stdout",
       "text": [
        " of 264\n",
        "95"
       ]
      },
      {
       "output_type": "stream",
       "stream": "stdout",
       "text": [
        " of 264\n",
        "96"
       ]
      },
      {
       "output_type": "stream",
       "stream": "stdout",
       "text": [
        " of 264\n",
        "97"
       ]
      },
      {
       "output_type": "stream",
       "stream": "stdout",
       "text": [
        " of 264\n",
        "98"
       ]
      },
      {
       "output_type": "stream",
       "stream": "stdout",
       "text": [
        " of 264\n",
        "99"
       ]
      },
      {
       "output_type": "stream",
       "stream": "stdout",
       "text": [
        " of 264\n",
        "100"
       ]
      },
      {
       "output_type": "stream",
       "stream": "stdout",
       "text": [
        " of 264\n",
        "101"
       ]
      },
      {
       "output_type": "stream",
       "stream": "stdout",
       "text": [
        " of 264\n",
        "102"
       ]
      },
      {
       "output_type": "stream",
       "stream": "stdout",
       "text": [
        " of 264\n",
        "103"
       ]
      },
      {
       "output_type": "stream",
       "stream": "stdout",
       "text": [
        " of 264\n",
        "104"
       ]
      },
      {
       "output_type": "stream",
       "stream": "stdout",
       "text": [
        " of 264\n",
        "105"
       ]
      },
      {
       "output_type": "stream",
       "stream": "stdout",
       "text": [
        " of 264\n",
        "106"
       ]
      },
      {
       "output_type": "stream",
       "stream": "stdout",
       "text": [
        " of 264\n",
        "107"
       ]
      },
      {
       "output_type": "stream",
       "stream": "stdout",
       "text": [
        " of 264\n",
        "108"
       ]
      },
      {
       "output_type": "stream",
       "stream": "stdout",
       "text": [
        " of 264\n",
        "109"
       ]
      },
      {
       "output_type": "stream",
       "stream": "stdout",
       "text": [
        " of 264\n",
        "110"
       ]
      },
      {
       "output_type": "stream",
       "stream": "stdout",
       "text": [
        " of 264\n",
        "111"
       ]
      },
      {
       "output_type": "stream",
       "stream": "stdout",
       "text": [
        " of 264\n",
        "112"
       ]
      },
      {
       "output_type": "stream",
       "stream": "stdout",
       "text": [
        " of 264\n",
        "113"
       ]
      },
      {
       "output_type": "stream",
       "stream": "stdout",
       "text": [
        " of 264\n",
        "114"
       ]
      },
      {
       "output_type": "stream",
       "stream": "stdout",
       "text": [
        " of 264\n",
        "115"
       ]
      },
      {
       "output_type": "stream",
       "stream": "stdout",
       "text": [
        " of 264\n",
        "116"
       ]
      },
      {
       "output_type": "stream",
       "stream": "stdout",
       "text": [
        " of 264\n",
        "117"
       ]
      },
      {
       "output_type": "stream",
       "stream": "stdout",
       "text": [
        " of 264\n",
        "118"
       ]
      },
      {
       "output_type": "stream",
       "stream": "stdout",
       "text": [
        " of 264\n",
        "119"
       ]
      },
      {
       "output_type": "stream",
       "stream": "stdout",
       "text": [
        " of 264\n",
        "120"
       ]
      },
      {
       "output_type": "stream",
       "stream": "stdout",
       "text": [
        " of 264\n",
        "121"
       ]
      },
      {
       "output_type": "stream",
       "stream": "stdout",
       "text": [
        " of 264\n",
        "122"
       ]
      },
      {
       "output_type": "stream",
       "stream": "stdout",
       "text": [
        " of 264\n",
        "123"
       ]
      },
      {
       "output_type": "stream",
       "stream": "stdout",
       "text": [
        " of 264\n",
        "124"
       ]
      },
      {
       "output_type": "stream",
       "stream": "stdout",
       "text": [
        " of 264\n",
        "125"
       ]
      },
      {
       "output_type": "stream",
       "stream": "stdout",
       "text": [
        " of 264\n",
        "126"
       ]
      },
      {
       "output_type": "stream",
       "stream": "stdout",
       "text": [
        " of 264\n",
        "127"
       ]
      },
      {
       "output_type": "stream",
       "stream": "stdout",
       "text": [
        " of 264\n",
        "128"
       ]
      },
      {
       "output_type": "stream",
       "stream": "stdout",
       "text": [
        " of 264\n",
        "129"
       ]
      },
      {
       "output_type": "stream",
       "stream": "stdout",
       "text": [
        " of 264\n",
        "130"
       ]
      },
      {
       "output_type": "stream",
       "stream": "stdout",
       "text": [
        " of 264\n",
        "131"
       ]
      },
      {
       "output_type": "stream",
       "stream": "stdout",
       "text": [
        " of 264\n",
        "132"
       ]
      },
      {
       "output_type": "stream",
       "stream": "stdout",
       "text": [
        " of 264\n",
        "133"
       ]
      },
      {
       "output_type": "stream",
       "stream": "stdout",
       "text": [
        " of 264\n",
        "134"
       ]
      },
      {
       "output_type": "stream",
       "stream": "stdout",
       "text": [
        " of 264\n",
        "135"
       ]
      },
      {
       "output_type": "stream",
       "stream": "stdout",
       "text": [
        " of 264\n",
        "136"
       ]
      },
      {
       "output_type": "stream",
       "stream": "stdout",
       "text": [
        " of 264\n",
        "137"
       ]
      },
      {
       "output_type": "stream",
       "stream": "stdout",
       "text": [
        " of 264\n",
        "138"
       ]
      },
      {
       "output_type": "stream",
       "stream": "stdout",
       "text": [
        " of 264\n",
        "139"
       ]
      },
      {
       "output_type": "stream",
       "stream": "stdout",
       "text": [
        " of 264\n",
        "140"
       ]
      },
      {
       "output_type": "stream",
       "stream": "stdout",
       "text": [
        " of 264\n",
        "141"
       ]
      },
      {
       "output_type": "stream",
       "stream": "stdout",
       "text": [
        " of 264\n",
        "142"
       ]
      },
      {
       "output_type": "stream",
       "stream": "stdout",
       "text": [
        " of 264\n",
        "143"
       ]
      },
      {
       "output_type": "stream",
       "stream": "stdout",
       "text": [
        " of 264\n",
        "144"
       ]
      },
      {
       "output_type": "stream",
       "stream": "stdout",
       "text": [
        " of 264\n",
        "145"
       ]
      },
      {
       "output_type": "stream",
       "stream": "stdout",
       "text": [
        " of 264\n",
        "146"
       ]
      },
      {
       "output_type": "stream",
       "stream": "stdout",
       "text": [
        " of 264\n",
        "147"
       ]
      },
      {
       "output_type": "stream",
       "stream": "stdout",
       "text": [
        " of 264\n",
        "148"
       ]
      },
      {
       "output_type": "stream",
       "stream": "stdout",
       "text": [
        " of 264\n",
        "149"
       ]
      },
      {
       "output_type": "stream",
       "stream": "stdout",
       "text": [
        " of 264\n",
        "150"
       ]
      },
      {
       "output_type": "stream",
       "stream": "stdout",
       "text": [
        " of 264\n",
        "151"
       ]
      },
      {
       "output_type": "stream",
       "stream": "stdout",
       "text": [
        " of 264\n",
        "152"
       ]
      },
      {
       "output_type": "stream",
       "stream": "stdout",
       "text": [
        " of 264\n",
        "153"
       ]
      },
      {
       "output_type": "stream",
       "stream": "stdout",
       "text": [
        " of 264\n",
        "154"
       ]
      },
      {
       "output_type": "stream",
       "stream": "stdout",
       "text": [
        " of 264\n",
        "155"
       ]
      },
      {
       "output_type": "stream",
       "stream": "stdout",
       "text": [
        " of 264\n",
        "156"
       ]
      },
      {
       "output_type": "stream",
       "stream": "stdout",
       "text": [
        " of 264\n",
        "157"
       ]
      },
      {
       "output_type": "stream",
       "stream": "stdout",
       "text": [
        " of 264\n",
        "158"
       ]
      },
      {
       "output_type": "stream",
       "stream": "stdout",
       "text": [
        " of 264\n",
        "159"
       ]
      },
      {
       "output_type": "stream",
       "stream": "stdout",
       "text": [
        " of 264\n",
        "160"
       ]
      },
      {
       "output_type": "stream",
       "stream": "stdout",
       "text": [
        " of 264\n",
        "161"
       ]
      },
      {
       "output_type": "stream",
       "stream": "stdout",
       "text": [
        " of 264\n",
        "162"
       ]
      },
      {
       "output_type": "stream",
       "stream": "stdout",
       "text": [
        " of 264\n",
        "163"
       ]
      },
      {
       "output_type": "stream",
       "stream": "stdout",
       "text": [
        " of 264\n",
        "164"
       ]
      },
      {
       "output_type": "stream",
       "stream": "stdout",
       "text": [
        " of 264\n",
        "165"
       ]
      },
      {
       "output_type": "stream",
       "stream": "stdout",
       "text": [
        " of 264\n",
        "166"
       ]
      },
      {
       "output_type": "stream",
       "stream": "stdout",
       "text": [
        " of 264\n",
        "167"
       ]
      },
      {
       "output_type": "stream",
       "stream": "stdout",
       "text": [
        " of 264\n",
        "168"
       ]
      },
      {
       "output_type": "stream",
       "stream": "stdout",
       "text": [
        " of 264\n",
        "169"
       ]
      },
      {
       "output_type": "stream",
       "stream": "stdout",
       "text": [
        " of 264\n",
        "170"
       ]
      },
      {
       "output_type": "stream",
       "stream": "stdout",
       "text": [
        " of 264\n",
        "171"
       ]
      },
      {
       "output_type": "stream",
       "stream": "stdout",
       "text": [
        " of 264\n",
        "172"
       ]
      },
      {
       "output_type": "stream",
       "stream": "stdout",
       "text": [
        " of 264\n",
        "173"
       ]
      },
      {
       "output_type": "stream",
       "stream": "stdout",
       "text": [
        " of 264\n",
        "174"
       ]
      },
      {
       "output_type": "stream",
       "stream": "stdout",
       "text": [
        " of 264\n",
        "175"
       ]
      },
      {
       "output_type": "stream",
       "stream": "stdout",
       "text": [
        " of 264\n",
        "176"
       ]
      },
      {
       "output_type": "stream",
       "stream": "stdout",
       "text": [
        " of 264\n",
        "177"
       ]
      },
      {
       "output_type": "stream",
       "stream": "stdout",
       "text": [
        " of 264\n",
        "178"
       ]
      },
      {
       "output_type": "stream",
       "stream": "stdout",
       "text": [
        " of 264\n",
        "179"
       ]
      },
      {
       "output_type": "stream",
       "stream": "stdout",
       "text": [
        " of 264\n",
        "180"
       ]
      },
      {
       "output_type": "stream",
       "stream": "stdout",
       "text": [
        " of 264\n",
        "181"
       ]
      },
      {
       "output_type": "stream",
       "stream": "stdout",
       "text": [
        " of 264\n",
        "182"
       ]
      },
      {
       "output_type": "stream",
       "stream": "stdout",
       "text": [
        " of 264\n",
        "183"
       ]
      },
      {
       "output_type": "stream",
       "stream": "stdout",
       "text": [
        " of 264\n",
        "184"
       ]
      },
      {
       "output_type": "stream",
       "stream": "stdout",
       "text": [
        " of 264\n",
        "185"
       ]
      },
      {
       "output_type": "stream",
       "stream": "stdout",
       "text": [
        " of 264\n",
        "186"
       ]
      },
      {
       "output_type": "stream",
       "stream": "stdout",
       "text": [
        " of 264\n",
        "187"
       ]
      },
      {
       "output_type": "stream",
       "stream": "stdout",
       "text": [
        " of 264\n",
        "188"
       ]
      },
      {
       "output_type": "stream",
       "stream": "stdout",
       "text": [
        " of 264\n",
        "189"
       ]
      },
      {
       "output_type": "stream",
       "stream": "stdout",
       "text": [
        " of 264\n",
        "190"
       ]
      },
      {
       "output_type": "stream",
       "stream": "stdout",
       "text": [
        " of 264\n",
        "191"
       ]
      },
      {
       "output_type": "stream",
       "stream": "stdout",
       "text": [
        " of 264\n",
        "192"
       ]
      },
      {
       "output_type": "stream",
       "stream": "stdout",
       "text": [
        " of 264\n",
        "193"
       ]
      },
      {
       "output_type": "stream",
       "stream": "stdout",
       "text": [
        " of 264\n",
        "194"
       ]
      },
      {
       "output_type": "stream",
       "stream": "stdout",
       "text": [
        " of 264\n",
        "195"
       ]
      },
      {
       "output_type": "stream",
       "stream": "stdout",
       "text": [
        " of 264\n",
        "196"
       ]
      },
      {
       "output_type": "stream",
       "stream": "stdout",
       "text": [
        " of 264\n",
        "197"
       ]
      },
      {
       "output_type": "stream",
       "stream": "stdout",
       "text": [
        " of 264\n",
        "198"
       ]
      },
      {
       "output_type": "stream",
       "stream": "stdout",
       "text": [
        " of 264\n",
        "199"
       ]
      },
      {
       "output_type": "stream",
       "stream": "stdout",
       "text": [
        " of 264\n",
        "200"
       ]
      },
      {
       "output_type": "stream",
       "stream": "stdout",
       "text": [
        " of 264\n",
        "201"
       ]
      },
      {
       "output_type": "stream",
       "stream": "stdout",
       "text": [
        " of 264\n",
        "202"
       ]
      },
      {
       "output_type": "stream",
       "stream": "stdout",
       "text": [
        " of 264\n",
        "203"
       ]
      },
      {
       "output_type": "stream",
       "stream": "stdout",
       "text": [
        " of 264\n",
        "204"
       ]
      },
      {
       "output_type": "stream",
       "stream": "stdout",
       "text": [
        " of 264\n",
        "205"
       ]
      },
      {
       "output_type": "stream",
       "stream": "stdout",
       "text": [
        " of 264\n",
        "206"
       ]
      },
      {
       "output_type": "stream",
       "stream": "stdout",
       "text": [
        " of 264\n",
        "207"
       ]
      },
      {
       "output_type": "stream",
       "stream": "stdout",
       "text": [
        " of 264\n",
        "208"
       ]
      },
      {
       "output_type": "stream",
       "stream": "stdout",
       "text": [
        " of 264\n",
        "209"
       ]
      },
      {
       "output_type": "stream",
       "stream": "stdout",
       "text": [
        " of 264\n",
        "210"
       ]
      },
      {
       "output_type": "stream",
       "stream": "stdout",
       "text": [
        " of 264\n",
        "211"
       ]
      },
      {
       "output_type": "stream",
       "stream": "stdout",
       "text": [
        " of 264\n",
        "212"
       ]
      },
      {
       "output_type": "stream",
       "stream": "stdout",
       "text": [
        " of 264\n",
        "213"
       ]
      },
      {
       "output_type": "stream",
       "stream": "stdout",
       "text": [
        " of 264\n",
        "214"
       ]
      },
      {
       "output_type": "stream",
       "stream": "stdout",
       "text": [
        " of 264\n",
        "215"
       ]
      },
      {
       "output_type": "stream",
       "stream": "stdout",
       "text": [
        " of 264\n",
        "216"
       ]
      },
      {
       "output_type": "stream",
       "stream": "stdout",
       "text": [
        " of 264\n",
        "217"
       ]
      },
      {
       "output_type": "stream",
       "stream": "stdout",
       "text": [
        " of 264\n",
        "218"
       ]
      },
      {
       "output_type": "stream",
       "stream": "stdout",
       "text": [
        " of 264\n",
        "219"
       ]
      },
      {
       "output_type": "stream",
       "stream": "stdout",
       "text": [
        " of 264\n",
        "220"
       ]
      },
      {
       "output_type": "stream",
       "stream": "stdout",
       "text": [
        " of 264\n",
        "221"
       ]
      },
      {
       "output_type": "stream",
       "stream": "stdout",
       "text": [
        " of 264\n",
        "222"
       ]
      },
      {
       "output_type": "stream",
       "stream": "stdout",
       "text": [
        " of 264\n",
        "223"
       ]
      },
      {
       "output_type": "stream",
       "stream": "stdout",
       "text": [
        " of 264\n",
        "224"
       ]
      },
      {
       "output_type": "stream",
       "stream": "stdout",
       "text": [
        " of 264\n",
        "225"
       ]
      },
      {
       "output_type": "stream",
       "stream": "stdout",
       "text": [
        " of 264\n",
        "226"
       ]
      },
      {
       "output_type": "stream",
       "stream": "stdout",
       "text": [
        " of 264\n",
        "227"
       ]
      },
      {
       "output_type": "stream",
       "stream": "stdout",
       "text": [
        " of 264\n",
        "228"
       ]
      },
      {
       "output_type": "stream",
       "stream": "stdout",
       "text": [
        " of 264\n",
        "229"
       ]
      },
      {
       "output_type": "stream",
       "stream": "stdout",
       "text": [
        " of 264\n",
        "230"
       ]
      },
      {
       "output_type": "stream",
       "stream": "stdout",
       "text": [
        " of 264\n",
        "231"
       ]
      },
      {
       "output_type": "stream",
       "stream": "stdout",
       "text": [
        " of 264\n",
        "232"
       ]
      },
      {
       "output_type": "stream",
       "stream": "stdout",
       "text": [
        " of 264\n",
        "233"
       ]
      },
      {
       "output_type": "stream",
       "stream": "stdout",
       "text": [
        " of 264\n",
        "234"
       ]
      },
      {
       "output_type": "stream",
       "stream": "stdout",
       "text": [
        " of 264\n",
        "235"
       ]
      },
      {
       "output_type": "stream",
       "stream": "stdout",
       "text": [
        " of 264\n",
        "236"
       ]
      },
      {
       "output_type": "stream",
       "stream": "stdout",
       "text": [
        " of 264\n",
        "237"
       ]
      },
      {
       "output_type": "stream",
       "stream": "stdout",
       "text": [
        " of 264\n",
        "238"
       ]
      },
      {
       "output_type": "stream",
       "stream": "stdout",
       "text": [
        " of 264\n",
        "239"
       ]
      },
      {
       "output_type": "stream",
       "stream": "stdout",
       "text": [
        " of 264\n",
        "240"
       ]
      },
      {
       "output_type": "stream",
       "stream": "stdout",
       "text": [
        " of 264\n",
        "241"
       ]
      },
      {
       "output_type": "stream",
       "stream": "stdout",
       "text": [
        " of 264\n",
        "242"
       ]
      },
      {
       "output_type": "stream",
       "stream": "stdout",
       "text": [
        " of 264\n",
        "243"
       ]
      },
      {
       "output_type": "stream",
       "stream": "stdout",
       "text": [
        " of 264\n",
        "244"
       ]
      },
      {
       "output_type": "stream",
       "stream": "stdout",
       "text": [
        " of 264\n",
        "245"
       ]
      },
      {
       "output_type": "stream",
       "stream": "stdout",
       "text": [
        " of 264\n",
        "246"
       ]
      },
      {
       "output_type": "stream",
       "stream": "stdout",
       "text": [
        " of 264\n",
        "247"
       ]
      },
      {
       "output_type": "stream",
       "stream": "stdout",
       "text": [
        " of 264\n",
        "248"
       ]
      },
      {
       "output_type": "stream",
       "stream": "stdout",
       "text": [
        " of 264\n",
        "249"
       ]
      },
      {
       "output_type": "stream",
       "stream": "stdout",
       "text": [
        " of 264\n",
        "250"
       ]
      },
      {
       "output_type": "stream",
       "stream": "stdout",
       "text": [
        " of 264\n",
        "251"
       ]
      },
      {
       "output_type": "stream",
       "stream": "stdout",
       "text": [
        " of 264\n",
        "252"
       ]
      },
      {
       "output_type": "stream",
       "stream": "stdout",
       "text": [
        " of 264\n",
        "253"
       ]
      },
      {
       "output_type": "stream",
       "stream": "stdout",
       "text": [
        " of 264\n",
        "254"
       ]
      },
      {
       "output_type": "stream",
       "stream": "stdout",
       "text": [
        " of 264\n",
        "255"
       ]
      },
      {
       "output_type": "stream",
       "stream": "stdout",
       "text": [
        " of 264\n",
        "256"
       ]
      },
      {
       "output_type": "stream",
       "stream": "stdout",
       "text": [
        " of 264\n",
        "257"
       ]
      },
      {
       "output_type": "stream",
       "stream": "stdout",
       "text": [
        " of 264\n",
        "258"
       ]
      },
      {
       "output_type": "stream",
       "stream": "stdout",
       "text": [
        " of 264\n",
        "259"
       ]
      },
      {
       "output_type": "stream",
       "stream": "stdout",
       "text": [
        " of 264\n",
        "260"
       ]
      },
      {
       "output_type": "stream",
       "stream": "stdout",
       "text": [
        " of 264\n",
        "261"
       ]
      },
      {
       "output_type": "stream",
       "stream": "stdout",
       "text": [
        " of 264\n",
        "262"
       ]
      },
      {
       "output_type": "stream",
       "stream": "stdout",
       "text": [
        " of 264\n",
        "263"
       ]
      },
      {
       "output_type": "stream",
       "stream": "stdout",
       "text": [
        " of 264\n"
       ]
      }
     ],
     "prompt_number": 2
    },
    {
     "cell_type": "markdown",
     "metadata": {},
     "source": [
      "## LS fit to visualize lightcurves"
     ]
    },
    {
     "cell_type": "code",
     "collapsed": false,
     "input": [
      "import sys\n",
      "sys.path.append('/astro/users/bmmorris/Downloads/Fast_MA')\n",
      "from ext_func.rsky import rsky\n",
      "from ext_func.occultquad import occultquad\n",
      "def get_lc(e, aRs, i, u1, u2, p0, w, period, t0, eps, t):\n",
      "    '''\n",
      "    e - eccentricity\n",
      "    aRs - \"a over R-star\"\n",
      "    i - inclination angle in radians\n",
      "    u1, u2 - quadratic limb-darkening coeffs\n",
      "    p0 - planet to star radius ratio\n",
      "    w - argument of periapse\n",
      "    period - period\n",
      "    t0 - midtransit (JD)\n",
      "    eps - minimum eccentricity for Kepler's equation\n",
      "    t - time array\n",
      "    '''\n",
      "    r_s = 1.0\n",
      "    npoints = len(t)\n",
      "    z0 = rsky(e, aRs, i, r_s, w, period, t0, eps, t)   #calculates separation of centers between the planet and the star\n",
      "    mu_c = occultquad(z0, u1, u2, p0, npoints)   #returns limb darkened model lightcurve\n",
      "    return mu_c\n",
      "    \n",
      "from scipy import optimize\n",
      "aOverRs = 1./0.0932 # Jord`an et al 2013\n",
      "RpOverRs = 0.1404   # Jord`an et al 2013\n",
      "eccentricity = 0\n",
      "inclination = 88.47*np.pi/180\n",
      "u1 = 0.2\n",
      "u2 = 0.2\n",
      "periapse = np.pi/2\n",
      "period = 3.361006\n",
      "mineccentricity = 1.0e-7\n",
      "times_JD = times\n",
      "\n",
      "\n",
      "for l, apertureradius in enumerate(apertureradii):\n",
      "    lightcurve = fluxes[:, 1, :, l]/fluxes[:, 0, :, l]\n",
      "    lightcurve_errors = lightcurve*np.sqrt((errors[:, 1, :, l]/fluxes[:, 1, :, l])**2 + (errors[:, 0, :, l]/fluxes[:, 0, :, l])**2)\n",
      "    oot = (times < t0_roughfit - t14duration_expected/2.0) +      (times > t0_roughfit + t14duration_expected/2.0)\n",
      "    \n",
      "    for eachbin in range(len(fluxes[0,0,:,0])):\n",
      "        lightcurve[:,eachbin] = lightcurve[:,eachbin]/np.mean(lightcurve[oot,eachbin])# + eachbin*0.02\n",
      "        lightcurve_errors[:,eachbin] = lightcurve_errors[:,eachbin]/np.mean(lightcurve[oot,eachbin])# + eachbin*0.02\n",
      "        \n",
      "    def quicklsfit(binindex):\n",
      "        def fitfunc(p):\n",
      "            #return get_lc(eccentricity, aOverRs, inclination, u1, u2, RpOverRs, periapse, period, t0, mineccentricity, times)\n",
      "            return get_lc(eccentricity, p[0], inclination, u1, u2, p[1], periapse, period, p[2], mineccentricity, times)   \n",
      "        \n",
      "        def errfunc(p):\n",
      "            return (fitfunc(p) - lightcurve[:,binindex])/lightcurve_errors[:,binindex]\n",
      "        \n",
      "        initp = [aOverRs, RpOverRs, t0_roughfit]\n",
      "        bestp = optimize.leastsq(errfunc, initp)[0]\n",
      "        return bestp, fitfunc(bestp)\n",
      "    def quicklsfit_bandintegrated():\n",
      "        def fitfunc(p):\n",
      "            #return get_lc(eccentricity, aOverRs, inclination, u1, u2, RpOverRs, periapse, period, t0, mineccentricity, times)\n",
      "            return p[3]*get_lc(eccentricity, p[0], inclination, u1, u2, p[1], \\\n",
      "                   periapse, period, p[2], mineccentricity, times) + p[4]*airmass#/(1 + p[4]*airmass) #+ p[4]*airmass\n",
      "        \n",
      "        def errfunc(p):\n",
      "            return (fitfunc(p) - np.sum(lightcurve, axis=1)/len(lightcurve[0,:]))/np.sqrt(np.sum(lightcurve_errors**2, axis=1)/len(lightcurve[0,:]))\n",
      "        \n",
      "        initp = [aOverRs, RpOverRs, t0_roughfit, 1, 0.01]\n",
      "        bestp = optimize.leastsq(errfunc, initp)[0]\n",
      "        return bestp, fitfunc(bestp)\n",
      "    bestp_bandintegrated, bestfit_bandintegrated = quicklsfit_bandintegrated()\n",
      "    print 'bestp_bandintegrated',bestp_bandintegrated\n",
      "#    fig, ax = plt.subplots(2, 1)\n",
      "#    ax[0].plot(times, bestp_bandintegrated)\n",
      "#    ax[0].plot(times, np.sum(lightcurve, axis=1)/len(lightcurve[0,:]), 'o')\n",
      "#    ax[1].plot(times, np.sum(lightcurve, axis=1)/len(lightcurve[0,:]) - bestp_bandintegrated, 'o')\n",
      "#    plt.show()\n",
      "    def quicklsfit_fixparams(binindex, bestp_bandintegrated=bestp_bandintegrated):\n",
      "        \n",
      "        def fitfunc_fixedparams(p, bestp_bandintegrated=bestp_bandintegrated):\n",
      "            #return get_lc(eccentricity, aOverRs, inclination, u1, u2, RpOverRs, periapse, period, t0, mineccentricity, times)\n",
      "            aOverRs_bandintegrated, RpOverRs_bandintegrated, t0_bandintegrated, scale_bandintegrated, airmass_bandintegrated = bestp_bandintegrated\n",
      "            return scale_bandintegrated*get_lc(eccentricity, aOverRs_bandintegrated, inclination, u1, u2, p[1], \\\n",
      "                   periapse, period, t0_bandintegrated, mineccentricity, times) + airmass_bandintegrated*airmass\n",
      "        \n",
      "        def errfunc_fixedparams(p):\n",
      "            return (fitfunc_fixedparams(p) - lightcurve[:,binindex])/lightcurve_errors[:,binindex]\n",
      "        \n",
      "        initp = [aOverRs, RpOverRs]#[aOverRs, RpOverRs, t0_roughfit]\n",
      "        bestp = optimize.leastsq(errfunc_fixedparams, initp)[0]\n",
      "        return bestp, fitfunc_fixedparams(bestp)\n",
      "\n",
      "    cmap = plt.cm.autumn\n",
      "    fig, ax = plt.subplots(1, figsize=(14,14))\n",
      "    mintimeint = int(np.min(times))\n",
      "    #ax.plot(times - mintimeint, lightcurve, '.')\n",
      "    lightcurve_allbins = np.zeros(len(times)*Nbins)\n",
      "    lightcurve_errors_allbins = np.zeros(len(times)*Nbins)\n",
      "    models_allbins = np.zeros(len(times)*Nbins)\n",
      "    for eachbin in range(len(lightcurve[0,:])):\n",
      "        #ax.errorbar(times - mintimeint, lightcurve[:,eachbin] + eachbin*0.02, yerr=lightcurve_errors[:,eachbin], fmt='.')\n",
      "        #ax.errorbar((times - mintimeint)[np.invert(oot)], lightcurve[np.invert(oot),eachbin] + eachbin*0.02, \\\n",
      "        #            yerr=lightcurve_errors[np.invert(oot),eachbin], fmt='.', color=cmap(1 - eachbin / float(Nbins)), ecolor='gray')\n",
      "        #ax.errorbar((times - mintimeint)[oot], lightcurve[oot,eachbin] + eachbin*0.02, \\\n",
      "        #            yerr=lightcurve_errors[oot,eachbin], fmt='s', color=cmap(1 - eachbin / float(Nbins)), ecolor='gray')\n",
      "        ax.errorbar(times - mintimeint, lightcurve[:,eachbin] + eachbin*0.02, \\\n",
      "                    yerr=lightcurve_errors[:,eachbin], fmt='.', color=cmap(1 - eachbin / float(Nbins)), ecolor='gray')\n",
      "        bestp, bestfit = quicklsfit_fixparams(eachbin, bestp_bandintegrated=bestp_bandintegrated)#quicklsfit(eachbin)\n",
      "        print 'bestp',bestp\n",
      "        chisquared = chi2(lightcurve[:,eachbin], bestfit, lightcurve_errors[:,eachbin], 4)\n",
      "        lightcurve_allbins[eachbin*len(times):(eachbin+1)*len(times)] = lightcurve[:,eachbin]\n",
      "        lightcurve_errors_allbins[eachbin*len(times):(eachbin+1)*len(times)] = lightcurve_errors[:,eachbin]\n",
      "        models_allbins[eachbin*len(times):(eachbin+1)*len(times)] = bestfit\n",
      "        #fig, ax = plt.subplots(2,1,figsize=(12,10))\n",
      "        ax.plot(times - mintimeint,bestfit + eachbin*0.02, 'k', ls='--')\n",
      "        text = r'$\\lambda = %.2f\\mu m, \\chi^2 = %.2f$' % (wavelengthbincenters[eachbin],\\\n",
      "                                    chisquared)\n",
      "        ax.annotate(text, (np.max(times) - mintimeint + 2*np.mean(np.diff(times)), \\\n",
      "                    1+eachbin*0.02),  xycoords='data', textcoords='data')\n",
      "    \n",
      "    chisquared_allbins[l] = chi2(lightcurve_allbins, models_allbins, lightcurve_errors_allbins, 2*Nbins)\n",
      "    ax.set_xlabel('JD - %d' % mintimeint)\n",
      "    ax.set_ylabel('Relative Flux')\n",
      "    ax.set_title('WASP-6 b  $\\chi^2 = %.4f$' % chisquared_allbins[l])\n",
      "    \n",
      "    ax.grid()\n",
      "    fig.savefig('bins/bin%02d.pdf' % eachbin)\n",
      "    #plt.close()\n",
      "plt.show()\n",
      "print times[0]"
     ],
     "language": "python",
     "metadata": {},
     "outputs": [
      {
       "output_type": "stream",
       "stream": "stdout",
       "text": [
        "bestp_bandintegrated [  1.07296137e+01   1.40400000e-01   2.45691888e+06   1.00000000e+00\n",
        "   1.00000000e-02]\n",
        "bestp"
       ]
      },
      {
       "output_type": "stream",
       "stream": "stdout",
       "text": [
        " [ 10.72961373   0.1785479 ]\n",
        "bestp [ 10.72961373   0.18421794]\n",
        "bestp [ 10.72961373   0.17973232]\n",
        "bestp [ 10.72961373   0.18086437]\n",
        "bestp"
       ]
      },
      {
       "output_type": "stream",
       "stream": "stdout",
       "text": [
        " [ 10.72961373   0.17993141]\n",
        "bestp [ 10.72961373   0.17991666]\n",
        "bestp [ 10.72961373   0.18248078]\n",
        "bestp [ 10.72961373   0.18257574]\n",
        "bestp"
       ]
      },
      {
       "output_type": "stream",
       "stream": "stdout",
       "text": [
        " [ 10.72961373   0.18122694]\n",
        "bestp [ 10.72961373   0.1404    ]\n",
        "2456918.8154"
       ]
      },
      {
       "output_type": "stream",
       "stream": "stdout",
       "text": [
        "\n"
       ]
      }
     ],
     "prompt_number": 3
    },
    {
     "cell_type": "code",
     "collapsed": false,
     "input": [
      "pwd"
     ],
     "language": "python",
     "metadata": {},
     "outputs": [
      {
       "metadata": {},
       "output_type": "pyout",
       "prompt_number": 4,
       "text": [
        "u'/astro/users/bmmorris/git/research/keck/2014september/analysis/leftnod'"
       ]
      }
     ],
     "prompt_number": 4
    },
    {
     "cell_type": "markdown",
     "metadata": {},
     "source": [
      "## LS fit to airmass trend in OOT portions"
     ]
    },
    {
     "cell_type": "code",
     "collapsed": false,
     "input": [
      "afteregress = times > 2456918.94\n",
      "\n",
      "times_JD = times[afteregress]\n",
      "\n",
      "for l, apertureradius in enumerate(apertureradii):\n",
      "    lightcurve = fluxes[:, 1, :, l]/fluxes[:, 0, :, l]\n",
      "    lightcurve_errors = lightcurve*np.sqrt((errors[:, 1, :, l]/fluxes[:, 1, :, l])**2 + (errors[:, 0, :, l]/fluxes[:, 0, :, l])**2)\n",
      "    oot = (times < t0_roughfit - t14duration_expected/2.0) +      (times > t0_roughfit + t14duration_expected/2.0)\n",
      "    \n",
      "    lightcurve = lightcurve[afteregress,:]\n",
      "    lightcurve_errors = lightcurve_errors[afteregress,:]\n",
      "\n",
      "    print 'bestp_bandintegrated',bestp_bandintegrated\n",
      "\n",
      "    def quicklsfit_fixparams(binindex):\n",
      "        \n",
      "        def fitfunc_fixedparams(p):\n",
      "            scale_bandintegrated, airmass_bandintegrated = p\n",
      "            return scale_bandintegrated + airmass_bandintegrated*airmass[afteregress]\n",
      "        \n",
      "        def errfunc_fixedparams(p):\n",
      "            return (fitfunc_fixedparams(p) - lightcurve[:,binindex])/lightcurve_errors[:,binindex]\n",
      "        \n",
      "        initp = [0, 1.0]#[aOverRs, RpOverRs, t0_roughfit]\n",
      "        bestp = optimize.leastsq(errfunc_fixedparams, initp)[0]\n",
      "        return bestp, fitfunc_fixedparams(bestp)\n",
      "\n",
      "    cmap = plt.cm.autumn\n",
      "    fig, ax = plt.subplots(1, figsize=(14,14))\n",
      "    mintimeint = int(np.min(times))\n",
      "    lightcurve_allbins = np.zeros(len(times)*Nbins)\n",
      "    lightcurve_errors_allbins = np.zeros(len(times)*Nbins)\n",
      "    models_allbins = np.zeros(len(times)*Nbins)\n",
      "    for eachbin in range(len(lightcurve[0,:])):\n",
      "        bestparams, model = quicklsfit_fixparams(eachbin)\n",
      "        print bestparams\n",
      "        ax.errorbar(times_JD - mintimeint, lightcurve[:,eachbin] + eachbin*0.02, \\\n",
      "                    yerr=lightcurve_errors[:,eachbin], fmt='.', color=cmap(1 - eachbin / float(Nbins)), ecolor='gray')\n",
      "\n",
      "        ax.plot(times_JD - mintimeint, model + eachbin*0.02, \\\n",
      "                    ls='--', color=cmap(1 - eachbin / float(Nbins)))\n",
      "        chisquared = chi2(lightcurve[:,eachbin], model, lightcurve_errors[:,eachbin], 2)\n",
      "        text = r'$\\lambda = %.2f\\mu m, \\chi^2 = %.2f$' % (wavelengthbincenters[eachbin],\\\n",
      "                                    chisquared)\n",
      "        ax.annotate(text, (np.max(times_JD) - mintimeint + 2*np.mean(np.diff(times)), \\\n",
      "                    np.median(lightcurve[:,eachbin]) + eachbin*0.02),  xycoords='data', textcoords='data')\n",
      "        ax.grid()\n",
      "    #plt.close()\n",
      "plt.show()"
     ],
     "language": "python",
     "metadata": {},
     "outputs": [
      {
       "output_type": "stream",
       "stream": "stdout",
       "text": [
        "bestp_bandintegrated [  1.07296137e+01   1.40400000e-01   2.45691888e+06   1.00000000e+00\n",
        "   1.00000000e-02]\n",
        "[ 0.77401231  0.00749336]\n",
        "[ 0.75989911  0.01563304]\n",
        "[ 0.77641891  0.0036828 ]\n",
        "[ 0.77522842  0.00323717]"
       ]
      },
      {
       "output_type": "stream",
       "stream": "stdout",
       "text": [
        "\n",
        "[ 0.78432358 -0.00193067]\n",
        "[ 0.7771289   0.00413953]\n",
        "[ 0.7930728  -0.00133326]\n",
        "[ 0.81236503  0.00265865]\n",
        "[ 0.81012215  0.00713812]\n",
        "[ 0.  1.]\n"
       ]
      }
     ],
     "prompt_number": 4
    },
    {
     "cell_type": "markdown",
     "metadata": {},
     "source": [
      "## How close to photon noise are we OOT?"
     ]
    },
    {
     "cell_type": "code",
     "collapsed": false,
     "input": [
      "import matplotlib\n",
      "matplotlib.rcParams['font.size'] = 15\n",
      "for l, apertureradius in enumerate(apertureradii):\n",
      "    lightcurve = fluxes[:, 1, :, l]/fluxes[:, 0, :, l]\n",
      "    lightcurve_errors = lightcurve*np.sqrt((errors[:, 1, :, l]/fluxes[:, 1, :, l])**2 + (errors[:, 0, :, l]/fluxes[:, 0, :, l])**2)\n",
      "    oot = (times < t0_roughfit - t14duration_expected/2.0) +      (times > t0_roughfit + t14duration_expected/2.0)\n",
      "    \n",
      "    lightcurve = lightcurve[afteregress,:]\n",
      "    lightcurve_errors = lightcurve_errors[afteregress,:]\n",
      "\n",
      "    print 'bestp_bandintegrated',bestp_bandintegrated\n",
      "\n",
      "    def quicklsfit_fixparams(binindex):\n",
      "        \n",
      "        def fitfunc_fixedparams(p):\n",
      "            scale_bandintegrated, airmass_bandintegrated = p\n",
      "            return scale_bandintegrated + airmass_bandintegrated*airmass[afteregress]\n",
      "        \n",
      "        def errfunc_fixedparams(p):\n",
      "            return (fitfunc_fixedparams(p) - lightcurve[:,binindex])/lightcurve_errors[:,binindex]\n",
      "        \n",
      "        initp = [0, 1.0]#[aOverRs, RpOverRs, t0_roughfit]\n",
      "        bestp = optimize.leastsq(errfunc_fixedparams, initp)[0]\n",
      "        return bestp, fitfunc_fixedparams(bestp)\n",
      "\n",
      "    cmap = plt.cm.autumn\n",
      "    mintimeint = int(np.min(times))\n",
      "    lightcurve_allbins = np.zeros(len(times)*Nbins)\n",
      "    lightcurve_errors_allbins = np.zeros(len(times)*Nbins)\n",
      "    models_allbins = np.zeros(len(times)*Nbins)\n",
      "    for eachbin in range(len(lightcurve[0,:])):\n",
      "        bestparams, model = quicklsfit_fixparams(eachbin)\n",
      "        print bestparams\n",
      "        chisquared = chi2(lightcurve[:,eachbin], model, lightcurve_errors[:,eachbin], 2)\n",
      "        actualrms = np.std(lightcurve[:,eachbin] - model)\n",
      "        photonrms = np.mean(lightcurve_errors[:,eachbin])\n",
      "        fig, ax = plt.subplots(1, figsize=(14,6))\n",
      "        ax.plot(times_JD - mintimeint, (lightcurve[:,eachbin] - model)/lightcurve_errors[:,eachbin], \\\n",
      "                    '.')#, color=cmap(1 - eachbin / float(Nbins)))\n",
      "        ax.set_title('$\\lambda = %.2f\\mu m,\\; \\chi^2 = %.2f,\\; \\sigma_{rms}/\\sigma_{photon} = %.2f$' % (wavelengthbincenters[eachbin],\\\n",
      "                                     chisquared, (actualrms/photonrms)))\n",
      "#        ax.plot(times_JD - mintimeint, model + eachbin*0.02, \\\n",
      "#                ls='--', color=cmap(1 - eachbin / float(Nbins)))\n",
      "\n",
      "#         text = $\\lambda = %.2f\\mu m, \\chi^2 = %.2f$' % (wavelengthbincenters[eachbin],\\\n",
      "#                                     chisquared)\n",
      "#         ax.annotate(text, (np.max(times_JD) - mintimeint + 2*np.mean(np.diff(times)), \\\n",
      "#                     np.median(lightcurve[:,eachbin]) + eachbin*0.02),  xycoords='data', textcoords='data')\n",
      "        ax.grid()\n",
      "    #plt.close()\n",
      "plt.show()"
     ],
     "language": "python",
     "metadata": {},
     "outputs": [
      {
       "output_type": "stream",
       "stream": "stdout",
       "text": [
        "bestp_bandintegrated [  1.10527473e+01   1.36346621e-01   2.45691888e+06   9.92095668e-01\n",
        "   5.17245491e-03]\n",
        "[ 0.76516774  0.01161106]\n"
       ]
      },
      {
       "ename": "ValueError",
       "evalue": "x and y must have same first dimension",
       "output_type": "pyerr",
       "traceback": [
        "\u001b[1;31m---------------------------------------------------------------------------\u001b[0m\n\u001b[1;31mValueError\u001b[0m                                Traceback (most recent call last)",
        "\u001b[1;32m<ipython-input-12-3baa50e10373>\u001b[0m in \u001b[0;36m<module>\u001b[1;34m()\u001b[0m\n\u001b[0;32m     36\u001b[0m         \u001b[0mphotonrms\u001b[0m \u001b[1;33m=\u001b[0m \u001b[0mnp\u001b[0m\u001b[1;33m.\u001b[0m\u001b[0mmean\u001b[0m\u001b[1;33m(\u001b[0m\u001b[0mlightcurve_errors\u001b[0m\u001b[1;33m[\u001b[0m\u001b[1;33m:\u001b[0m\u001b[1;33m,\u001b[0m\u001b[0meachbin\u001b[0m\u001b[1;33m]\u001b[0m\u001b[1;33m)\u001b[0m\u001b[1;33m\u001b[0m\u001b[0m\n\u001b[0;32m     37\u001b[0m         \u001b[0mfig\u001b[0m\u001b[1;33m,\u001b[0m \u001b[0max\u001b[0m \u001b[1;33m=\u001b[0m \u001b[0mplt\u001b[0m\u001b[1;33m.\u001b[0m\u001b[0msubplots\u001b[0m\u001b[1;33m(\u001b[0m\u001b[1;36m1\u001b[0m\u001b[1;33m,\u001b[0m \u001b[0mfigsize\u001b[0m\u001b[1;33m=\u001b[0m\u001b[1;33m(\u001b[0m\u001b[1;36m14\u001b[0m\u001b[1;33m,\u001b[0m\u001b[1;36m6\u001b[0m\u001b[1;33m)\u001b[0m\u001b[1;33m)\u001b[0m\u001b[1;33m\u001b[0m\u001b[0m\n\u001b[1;32m---> 38\u001b[1;33m         \u001b[0max\u001b[0m\u001b[1;33m.\u001b[0m\u001b[0mplot\u001b[0m\u001b[1;33m(\u001b[0m\u001b[0mtimes_JD\u001b[0m \u001b[1;33m-\u001b[0m \u001b[0mmintimeint\u001b[0m\u001b[1;33m,\u001b[0m \u001b[1;33m(\u001b[0m\u001b[0mlightcurve\u001b[0m\u001b[1;33m[\u001b[0m\u001b[1;33m:\u001b[0m\u001b[1;33m,\u001b[0m\u001b[0meachbin\u001b[0m\u001b[1;33m]\u001b[0m \u001b[1;33m-\u001b[0m \u001b[0mmodel\u001b[0m\u001b[1;33m)\u001b[0m\u001b[1;33m/\u001b[0m\u001b[0mlightcurve_errors\u001b[0m\u001b[1;33m[\u001b[0m\u001b[1;33m:\u001b[0m\u001b[1;33m,\u001b[0m\u001b[0meachbin\u001b[0m\u001b[1;33m]\u001b[0m\u001b[1;33m,\u001b[0m                     \u001b[1;34m'.'\u001b[0m\u001b[1;33m)\u001b[0m\u001b[1;31m#, color=cmap(1 - eachbin / float(Nbins)))\u001b[0m\u001b[1;33m\u001b[0m\u001b[0m\n\u001b[0m\u001b[0;32m     39\u001b[0m         \u001b[0max\u001b[0m\u001b[1;33m.\u001b[0m\u001b[0mset_title\u001b[0m\u001b[1;33m(\u001b[0m\u001b[1;34m'$\\lambda = %.2f\\mu m,\\; \\chi^2 = %.2f,\\; \\sigma_{rms}/\\sigma_{photon} = %.2f$'\u001b[0m \u001b[1;33m%\u001b[0m \u001b[1;33m(\u001b[0m\u001b[0mwavelengthbincenters\u001b[0m\u001b[1;33m[\u001b[0m\u001b[0meachbin\u001b[0m\u001b[1;33m]\u001b[0m\u001b[1;33m,\u001b[0m                                     \u001b[0mchisquared\u001b[0m\u001b[1;33m,\u001b[0m \u001b[1;33m(\u001b[0m\u001b[0mactualrms\u001b[0m\u001b[1;33m/\u001b[0m\u001b[0mphotonrms\u001b[0m\u001b[1;33m)\u001b[0m\u001b[1;33m)\u001b[0m\u001b[1;33m)\u001b[0m\u001b[1;33m\u001b[0m\u001b[0m\n\u001b[0;32m     40\u001b[0m \u001b[1;31m#        ax.plot(times_JD - mintimeint, model + eachbin*0.02, \\\u001b[0m\u001b[1;33m\u001b[0m\u001b[1;33m\u001b[0m\u001b[0m\n",
        "\u001b[1;32m/astro/apps6/anaconda2.0/lib/python2.7/site-packages/matplotlib/axes/_axes.pyc\u001b[0m in \u001b[0;36mplot\u001b[1;34m(self, *args, **kwargs)\u001b[0m\n\u001b[0;32m   1371\u001b[0m         \u001b[0mlines\u001b[0m \u001b[1;33m=\u001b[0m \u001b[1;33m[\u001b[0m\u001b[1;33m]\u001b[0m\u001b[1;33m\u001b[0m\u001b[0m\n\u001b[0;32m   1372\u001b[0m \u001b[1;33m\u001b[0m\u001b[0m\n\u001b[1;32m-> 1373\u001b[1;33m         \u001b[1;32mfor\u001b[0m \u001b[0mline\u001b[0m \u001b[1;32min\u001b[0m \u001b[0mself\u001b[0m\u001b[1;33m.\u001b[0m\u001b[0m_get_lines\u001b[0m\u001b[1;33m(\u001b[0m\u001b[1;33m*\u001b[0m\u001b[0margs\u001b[0m\u001b[1;33m,\u001b[0m \u001b[1;33m**\u001b[0m\u001b[0mkwargs\u001b[0m\u001b[1;33m)\u001b[0m\u001b[1;33m:\u001b[0m\u001b[1;33m\u001b[0m\u001b[0m\n\u001b[0m\u001b[0;32m   1374\u001b[0m             \u001b[0mself\u001b[0m\u001b[1;33m.\u001b[0m\u001b[0madd_line\u001b[0m\u001b[1;33m(\u001b[0m\u001b[0mline\u001b[0m\u001b[1;33m)\u001b[0m\u001b[1;33m\u001b[0m\u001b[0m\n\u001b[0;32m   1375\u001b[0m             \u001b[0mlines\u001b[0m\u001b[1;33m.\u001b[0m\u001b[0mappend\u001b[0m\u001b[1;33m(\u001b[0m\u001b[0mline\u001b[0m\u001b[1;33m)\u001b[0m\u001b[1;33m\u001b[0m\u001b[0m\n",
        "\u001b[1;32m/astro/apps6/anaconda2.0/lib/python2.7/site-packages/matplotlib/axes/_base.pyc\u001b[0m in \u001b[0;36m_grab_next_args\u001b[1;34m(self, *args, **kwargs)\u001b[0m\n\u001b[0;32m    301\u001b[0m                 \u001b[1;32mreturn\u001b[0m\u001b[1;33m\u001b[0m\u001b[0m\n\u001b[0;32m    302\u001b[0m             \u001b[1;32mif\u001b[0m \u001b[0mlen\u001b[0m\u001b[1;33m(\u001b[0m\u001b[0mremaining\u001b[0m\u001b[1;33m)\u001b[0m \u001b[1;33m<=\u001b[0m \u001b[1;36m3\u001b[0m\u001b[1;33m:\u001b[0m\u001b[1;33m\u001b[0m\u001b[0m\n\u001b[1;32m--> 303\u001b[1;33m                 \u001b[1;32mfor\u001b[0m \u001b[0mseg\u001b[0m \u001b[1;32min\u001b[0m \u001b[0mself\u001b[0m\u001b[1;33m.\u001b[0m\u001b[0m_plot_args\u001b[0m\u001b[1;33m(\u001b[0m\u001b[0mremaining\u001b[0m\u001b[1;33m,\u001b[0m \u001b[0mkwargs\u001b[0m\u001b[1;33m)\u001b[0m\u001b[1;33m:\u001b[0m\u001b[1;33m\u001b[0m\u001b[0m\n\u001b[0m\u001b[0;32m    304\u001b[0m                     \u001b[1;32myield\u001b[0m \u001b[0mseg\u001b[0m\u001b[1;33m\u001b[0m\u001b[0m\n\u001b[0;32m    305\u001b[0m                 \u001b[1;32mreturn\u001b[0m\u001b[1;33m\u001b[0m\u001b[0m\n",
        "\u001b[1;32m/astro/apps6/anaconda2.0/lib/python2.7/site-packages/matplotlib/axes/_base.pyc\u001b[0m in \u001b[0;36m_plot_args\u001b[1;34m(self, tup, kwargs)\u001b[0m\n\u001b[0;32m    279\u001b[0m             \u001b[0mx\u001b[0m \u001b[1;33m=\u001b[0m \u001b[0mnp\u001b[0m\u001b[1;33m.\u001b[0m\u001b[0marange\u001b[0m\u001b[1;33m(\u001b[0m\u001b[0my\u001b[0m\u001b[1;33m.\u001b[0m\u001b[0mshape\u001b[0m\u001b[1;33m[\u001b[0m\u001b[1;36m0\u001b[0m\u001b[1;33m]\u001b[0m\u001b[1;33m,\u001b[0m \u001b[0mdtype\u001b[0m\u001b[1;33m=\u001b[0m\u001b[0mfloat\u001b[0m\u001b[1;33m)\u001b[0m\u001b[1;33m\u001b[0m\u001b[0m\n\u001b[0;32m    280\u001b[0m \u001b[1;33m\u001b[0m\u001b[0m\n\u001b[1;32m--> 281\u001b[1;33m         \u001b[0mx\u001b[0m\u001b[1;33m,\u001b[0m \u001b[0my\u001b[0m \u001b[1;33m=\u001b[0m \u001b[0mself\u001b[0m\u001b[1;33m.\u001b[0m\u001b[0m_xy_from_xy\u001b[0m\u001b[1;33m(\u001b[0m\u001b[0mx\u001b[0m\u001b[1;33m,\u001b[0m \u001b[0my\u001b[0m\u001b[1;33m)\u001b[0m\u001b[1;33m\u001b[0m\u001b[0m\n\u001b[0m\u001b[0;32m    282\u001b[0m \u001b[1;33m\u001b[0m\u001b[0m\n\u001b[0;32m    283\u001b[0m         \u001b[1;32mif\u001b[0m \u001b[0mself\u001b[0m\u001b[1;33m.\u001b[0m\u001b[0mcommand\u001b[0m \u001b[1;33m==\u001b[0m \u001b[1;34m'plot'\u001b[0m\u001b[1;33m:\u001b[0m\u001b[1;33m\u001b[0m\u001b[0m\n",
        "\u001b[1;32m/astro/apps6/anaconda2.0/lib/python2.7/site-packages/matplotlib/axes/_base.pyc\u001b[0m in \u001b[0;36m_xy_from_xy\u001b[1;34m(self, x, y)\u001b[0m\n\u001b[0;32m    221\u001b[0m         \u001b[0my\u001b[0m \u001b[1;33m=\u001b[0m \u001b[0mnp\u001b[0m\u001b[1;33m.\u001b[0m\u001b[0matleast_1d\u001b[0m\u001b[1;33m(\u001b[0m\u001b[0my\u001b[0m\u001b[1;33m)\u001b[0m\u001b[1;33m\u001b[0m\u001b[0m\n\u001b[0;32m    222\u001b[0m         \u001b[1;32mif\u001b[0m \u001b[0mx\u001b[0m\u001b[1;33m.\u001b[0m\u001b[0mshape\u001b[0m\u001b[1;33m[\u001b[0m\u001b[1;36m0\u001b[0m\u001b[1;33m]\u001b[0m \u001b[1;33m!=\u001b[0m \u001b[0my\u001b[0m\u001b[1;33m.\u001b[0m\u001b[0mshape\u001b[0m\u001b[1;33m[\u001b[0m\u001b[1;36m0\u001b[0m\u001b[1;33m]\u001b[0m\u001b[1;33m:\u001b[0m\u001b[1;33m\u001b[0m\u001b[0m\n\u001b[1;32m--> 223\u001b[1;33m             \u001b[1;32mraise\u001b[0m \u001b[0mValueError\u001b[0m\u001b[1;33m(\u001b[0m\u001b[1;34m\"x and y must have same first dimension\"\u001b[0m\u001b[1;33m)\u001b[0m\u001b[1;33m\u001b[0m\u001b[0m\n\u001b[0m\u001b[0;32m    224\u001b[0m         \u001b[1;32mif\u001b[0m \u001b[0mx\u001b[0m\u001b[1;33m.\u001b[0m\u001b[0mndim\u001b[0m \u001b[1;33m>\u001b[0m \u001b[1;36m2\u001b[0m \u001b[1;32mor\u001b[0m \u001b[0my\u001b[0m\u001b[1;33m.\u001b[0m\u001b[0mndim\u001b[0m \u001b[1;33m>\u001b[0m \u001b[1;36m2\u001b[0m\u001b[1;33m:\u001b[0m\u001b[1;33m\u001b[0m\u001b[0m\n\u001b[0;32m    225\u001b[0m             \u001b[1;32mraise\u001b[0m \u001b[0mValueError\u001b[0m\u001b[1;33m(\u001b[0m\u001b[1;34m\"x and y can be no greater than 2-D\"\u001b[0m\u001b[1;33m)\u001b[0m\u001b[1;33m\u001b[0m\u001b[0m\n",
        "\u001b[1;31mValueError\u001b[0m: x and y must have same first dimension"
       ]
      }
     ],
     "prompt_number": 12
    },
    {
     "cell_type": "code",
     "collapsed": false,
     "input": [],
     "language": "python",
     "metadata": {},
     "outputs": []
    }
   ],
   "metadata": {}
  }
 ]
}