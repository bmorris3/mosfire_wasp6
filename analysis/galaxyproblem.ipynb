{
 "cells": [
  {
   "cell_type": "markdown",
   "metadata": {},
   "source": [
    "What if we need to scale the intensity of the galaxy to the intensity of the star in each image? That could explain why our fluxes, even post-galaxy correction, are correlated!\n",
    "\n",
    "I should: \n",
    "\n",
    "* think about a more carefully background subtracted galaxy series \n",
    "\n",
    "* then measure the flux of the comparison star in each frame, normalize that light curve by its mean\n",
    "\n",
    "* then take that normalized comp star time series and apply it to the galaxy, making its flux modulate by the same telluric effects, with the same fractional amplitude\n",
    "\n",
    "* then add the galaxy back into each image with that **galaxy time series**\n",
    "\n",
    "Support for this idea:\n",
    "\n",
    "* the correlated noise in the light curve is strongest in the channels where there is most flux from the galaxy. This makes sense I guess for any explanation."
   ]
  },
  {
   "cell_type": "code",
   "execution_count": 12,
   "metadata": {
    "collapsed": false
   },
   "outputs": [
    {
     "name": "stdout",
     "output_type": "stream",
     "text": [
      "Populating the interactive namespace from numpy and matplotlib\n",
      "Run:\n",
      "ds9 /astro/users/bmmorris/git/research/keck/2014september/analysis/rightnod/galaxy/wholeframegalaxyimg.fits -regions binregions.reg &\n"
     ]
    },
    {
     "name": "stderr",
     "output_type": "stream",
     "text": [
      "WARNING: pylab import has clobbered these variables: ['angle']\n",
      "`%matplotlib` prevents importing * from pylab and numpy\n"
     ]
    }
   ],
   "source": [
    "%pylab inline\n",
    "import pyfits\n",
    "import numpy as np\n",
    "import matplotlib\n",
    "matplotlib.rcParams['font.size'] = 15\n",
    "from matplotlib import pyplot as plt\n",
    "import sys\n",
    "sys.path.append('../')\n",
    "from astropy.time import Time\n",
    "\n",
    "Nbins = 8\n",
    "paddingbounds = [210, 2130]\n",
    "spectralbinbounds = np.linspace(paddingbounds[0], paddingbounds[1], Nbins+1, dtype=int)\n",
    "galaxyimagepath = '/astro/users/bmmorris/git/research/keck/2014september/analysis/rightnod/galaxy/wholeframegalaxyimg.fits'\n",
    "wavelengthbincenters = np.load('photoutputs/wavelengthbincenters.npy')\n",
    "#spectralbinbounds = np.linspace(paddingbounds[0], paddingbounds[1], Nbins+1, dtype=int)\n",
    "#print spectralbinbounds\n",
    "\n",
    "firstlines = \\\n",
    "'''\n",
    "# Region file format: DS9 version 4.1\n",
    "global color=green dashlist=8 3 width=1 font=\"helvetica 10 normal roman\" select=1 highlite=1 dash=0 fixed=0 edit=1 move=1 delete=1 include=1 source=1\n",
    "physical\n",
    "'''\n",
    "\n",
    "# Box format:\n",
    "# centerx centery widthx widthy rot\n",
    "with open('binregions.reg','w') as reg:\n",
    "    for i in range(len(spectralbinbounds)-1):\n",
    "        centerx =  0.5*(spectralbinbounds[i] + spectralbinbounds[i+1])\n",
    "        centery = 2024/2\n",
    "        widthx = spectralbinbounds[i+1] - spectralbinbounds[i]\n",
    "        widthy = 2024\n",
    "        angle = 0\n",
    "        linewidth = 3\n",
    "        wavelength = wavelengthbincenters[i]\n",
    "        reg.write(\"box({0:f},{1:f},{2:f},{3:f},{4:f}) # width={5} text={{{6:.3f}}} \\n\".format(\n",
    "                  centerx, centery, widthx, widthy, angle, linewidth, wavelength))\n",
    "\n",
    "# opends9 = True\n",
    "# if opends9:\n",
    "#     import os\n",
    "#     os.system('ds9 '+galaxyimagepath+' -regions binregions.reg &')\n",
    "print 'Run:\\n'+'ds9 '+galaxyimagepath+' -regions binregions.reg &'"
   ]
  },
  {
   "cell_type": "code",
   "execution_count": 10,
   "metadata": {
    "collapsed": false
   },
   "outputs": [],
   "source": [
    "%%bash\n",
    "ds9 /astro/users/bmmorris/git/research/keck/2014september/analysis/rightnod/galaxy/wholeframegalaxyimg.fits -regions binregions.reg &"
   ]
  },
  {
   "cell_type": "code",
   "execution_count": null,
   "metadata": {
    "collapsed": false
   },
   "outputs": [],
   "source": []
  }
 ],
 "metadata": {
  "kernelspec": {
   "display_name": "Python 2",
   "language": "python",
   "name": "python2"
  },
  "language_info": {
   "codemirror_mode": {
    "name": "ipython",
    "version": 2
   },
   "file_extension": ".py",
   "mimetype": "text/x-python",
   "name": "python",
   "nbconvert_exporter": "python",
   "pygments_lexer": "ipython2",
   "version": "2.7.11"
  }
 },
 "nbformat": 4,
 "nbformat_minor": 0
}
